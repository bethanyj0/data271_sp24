{
 "cells": [
  {
   "cell_type": "markdown",
   "id": "e0b0c3a6",
   "metadata": {},
   "source": [
    "# Practice Midterm 2 Designs"
   ]
  },
  {
   "cell_type": "markdown",
   "id": "88272b56",
   "metadata": {},
   "source": [
    "## Problem 1"
   ]
  },
  {
   "cell_type": "markdown",
   "id": "43f8a9ab-fc84-4794-9c9c-4bd2336cdff7",
   "metadata": {},
   "source": [
    "**1.1** Identify the parts in the following API And explain what each part does and what it means all together.\n",
    "\n",
    "\"requests.get(https://www.ncei.noaa.gov/cdo-web/api/v2/ + 'datacategories',headers = {'token':access_token}, params={'startdate': \"2018-10-01\"})\""
   ]
  },
  {
   "cell_type": "code",
   "execution_count": null,
   "id": "dd4ef4ee",
   "metadata": {},
   "outputs": [],
   "source": []
  },
  {
   "cell_type": "markdown",
   "id": "61af55bb-c69e-444f-8ad0-4a8dba405fc6",
   "metadata": {},
   "source": [
    "**1.2** If the response code of our data is over 200, is that good or bad? What should the ideal response status look like?"
   ]
  },
  {
   "cell_type": "code",
   "execution_count": null,
   "id": "1443c0fa",
   "metadata": {},
   "outputs": [],
   "source": []
  },
  {
   "cell_type": "markdown",
   "id": "274853b6",
   "metadata": {},
   "source": [
    "## Problem 2\n",
    "**Context:**\n",
    "You are given a list comrpised of school data in Califorina (2007-2022). Each year is its own dataframe."
   ]
  },
  {
   "cell_type": "code",
   "execution_count": null,
   "id": "f8eacb32",
   "metadata": {},
   "outputs": [],
   "source": [
    "files = ['Enr07-08.csv','Enr08-09.csv','Enr09-10.csv','Enr10-11.csv','Enr11-12.csv','Enr12-13.csv','Enr13-14.csv','Enr14-15.csv','Enr15-16.csv','Enr16-17.csv','Enr17-18.csv','Enr18-19.csv','Enr19-20.csv','Enr20-21.csv' ,'Enr21-22.csv','Enr22-23.csv', ]\n",
    "\n",
    "dfs = []\n",
    "\n",
    "for file in files:\n",
    "    df = pd.read_csv(file,low_memory=False)\n",
    "    dfs.append(df)"
   ]
  },
  {
   "cell_type": "markdown",
   "id": "50f3d60b",
   "metadata": {},
   "source": [
    "**2.1:** Make a function named `get_enr_total`, to get the total enrollemnt for a school in a given year"
   ]
  },
  {
   "cell_type": "code",
   "execution_count": null,
   "id": "e88cc952",
   "metadata": {},
   "outputs": [],
   "source": []
  },
  {
   "cell_type": "markdown",
   "id": "237c8003",
   "metadata": {},
   "source": [
    "**2.2** Make function to draw a line plot for given school (Hint: Use the function `get_enr_total`)"
   ]
  },
  {
   "cell_type": "code",
   "execution_count": null,
   "id": "67f2b318",
   "metadata": {},
   "outputs": [],
   "source": []
  },
  {
   "cell_type": "markdown",
   "id": "57a1ba37",
   "metadata": {},
   "source": [
    "## Problem 3\n",
    "**3.1**\n",
    "Link to the [data set](https://www.kaggle.com/datasets/lovishbansal123/nasa-asteroids-classification).\n",
    "The file name is nasa.csv and import the dataset as a pandas DataFrame, name the data set asteriods and check if there are null variables if so name the columns that have it."
   ]
  },
  {
   "cell_type": "code",
   "execution_count": null,
   "id": "ae36d30e",
   "metadata": {},
   "outputs": [],
   "source": []
  },
  {
   "cell_type": "markdown",
   "id": "0690e1d7",
   "metadata": {},
   "source": [
    "**3.2** Create a 2 plots one shows the Absolute Magnitude and Orbital Period and see if those asteriods are Hazardous or not. The Seconds Plot is to find the differnce between if the asteriods are hazardous by its Aphelion Dist\n"
   ]
  },
  {
   "cell_type": "code",
   "execution_count": null,
   "id": "01476775",
   "metadata": {},
   "outputs": [],
   "source": []
  },
  {
   "cell_type": "markdown",
   "id": "98fd6e42",
   "metadata": {},
   "source": [
    "## Problem 4"
   ]
  },
  {
   "cell_type": "markdown",
   "id": "cf13b195",
   "metadata": {},
   "source": [
    "**4.1** Read in the `property_price.csv` and make a pair plot that is separated by `Affordability Index` by color (optional) *and make the color palette `rainbow`*"
   ]
  },
  {
   "cell_type": "code",
   "execution_count": null,
   "id": "b3242a68",
   "metadata": {},
   "outputs": [],
   "source": []
  },
  {
   "cell_type": "markdown",
   "id": "fedeeaf6",
   "metadata": {},
   "source": [
    "## Problem 5"
   ]
  },
  {
   "cell_type": "markdown",
   "id": "a0db8836",
   "metadata": {},
   "source": [
    "**5.1** There is a csv file called `family_heights.csv`. Upload it into a pandas dataframe called `heights`."
   ]
  },
  {
   "cell_type": "code",
   "execution_count": null,
   "id": "a4d2be9c",
   "metadata": {},
   "outputs": [],
   "source": []
  },
  {
   "cell_type": "markdown",
   "id": "d059fdc9",
   "metadata": {},
   "source": [
    "**5.2** Make a count plot that shows how many are male and how many are female."
   ]
  },
  {
   "cell_type": "code",
   "execution_count": null,
   "id": "707528bd",
   "metadata": {},
   "outputs": [],
   "source": []
  },
  {
   "cell_type": "markdown",
   "id": "638240ae",
   "metadata": {},
   "source": [
    "**5.3** Make another count plot but this time find how many different amounts of children there are."
   ]
  },
  {
   "cell_type": "code",
   "execution_count": null,
   "id": "134811c2",
   "metadata": {},
   "outputs": [],
   "source": []
  },
  {
   "cell_type": "markdown",
   "id": "1093a219",
   "metadata": {},
   "source": [
    "## Problem 6"
   ]
  },
  {
   "cell_type": "markdown",
   "id": "55899cf1",
   "metadata": {},
   "source": [
    "**6.1** Load the penguins dataset, and look at the amount of columns and rows"
   ]
  },
  {
   "cell_type": "code",
   "execution_count": null,
   "id": "e8d132a7",
   "metadata": {},
   "outputs": [],
   "source": []
  },
  {
   "cell_type": "markdown",
   "id": "d24ed9c7",
   "metadata": {},
   "source": [
    "**6.2** Find the amount of null values and get rid of them."
   ]
  },
  {
   "cell_type": "code",
   "execution_count": null,
   "id": "3f603a2c",
   "metadata": {},
   "outputs": [],
   "source": []
  },
  {
   "cell_type": "markdown",
   "id": "49613a4d",
   "metadata": {},
   "source": [
    "**6.3** Make a plot to compare sex and body mass. (doesnt nessacarily have to be a certain plot just as long as it makes sense.)"
   ]
  },
  {
   "cell_type": "code",
   "execution_count": null,
   "id": "9f63da04",
   "metadata": {},
   "outputs": [],
   "source": []
  },
  {
   "cell_type": "markdown",
   "id": "587a9dca",
   "metadata": {},
   "source": [
    "**6.4** Next look at flipper length by bill length and sex. "
   ]
  },
  {
   "cell_type": "code",
   "execution_count": null,
   "id": "ecc82c12",
   "metadata": {},
   "outputs": [],
   "source": []
  },
  {
   "cell_type": "markdown",
   "id": "d756edd7",
   "metadata": {},
   "source": [
    "## Problem 7\n",
    "\n",
    "**7.1** Check for missing values\n",
    "\n",
    "If missing values are found, handle them appropriately. (The data frame is already created: 'cars_df')  "
   ]
  },
  {
   "cell_type": "code",
   "execution_count": null,
   "id": "4cccbcb9",
   "metadata": {},
   "outputs": [],
   "source": []
  },
  {
   "cell_type": "markdown",
   "id": "d337f875",
   "metadata": {},
   "source": [
    "**7.2** Check for and remove duplicated rows from the dataset."
   ]
  },
  {
   "cell_type": "code",
   "execution_count": null,
   "id": "fa9dff89",
   "metadata": {},
   "outputs": [],
   "source": []
  }
 ],
 "metadata": {
  "kernelspec": {
   "display_name": "Python 3 (ipykernel)",
   "language": "python",
   "name": "python3"
  },
  "language_info": {
   "codemirror_mode": {
    "name": "ipython",
    "version": 3
   },
   "file_extension": ".py",
   "mimetype": "text/x-python",
   "name": "python",
   "nbconvert_exporter": "python",
   "pygments_lexer": "ipython3",
   "version": "3.11.4"
  }
 },
 "nbformat": 4,
 "nbformat_minor": 5
}
