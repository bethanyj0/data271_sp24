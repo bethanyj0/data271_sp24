{
 "cells": [
  {
   "cell_type": "markdown",
   "id": "f8031c78",
   "metadata": {},
   "source": [
    "# DATA 271 Midterm 2\n",
    "\n",
    "The [CSU Student Success Dashboards](https://csusuccess.dashboards.calstate.edu/) provide data to help university administrators, faculty, and students gain a better understanding of the backgrounds and academic patterns of students in the California State University system. Their mission is to provide the resource so that universities will be better able to engage in productive actions to promote student success.\n",
    "\n",
    "In this midterm, we will perform an exploratory data analysis on a dataset related to student success at Cal Poly Humboldt over the last decade. We will identify which subjects and courses students seem to struggle with the most. Our understanding of this data could potentially help the university make more informed decisions about where to provide resources and support."
   ]
  },
  {
   "cell_type": "markdown",
   "id": "d3ca6333",
   "metadata": {},
   "source": [
    "**Problem 0:** Import the required modules for this EDA. You will need, NumPy, Pandas, Matplotlib, Seaborn, and re. Feel free to use this cell to set the style and/or runtime configuration parameters for your Seaborn plots if you want to."
   ]
  },
  {
   "cell_type": "code",
   "execution_count": null,
   "id": "bff382db",
   "metadata": {},
   "outputs": [],
   "source": []
  },
  {
   "cell_type": "markdown",
   "id": "eb8c0eb0",
   "metadata": {},
   "source": [
    "## 1. Import the data and begin exploration"
   ]
  },
  {
   "cell_type": "markdown",
   "id": "3522ae8d",
   "metadata": {},
   "source": [
    "**Problem 1.1:** Import the `humboldt_student_success.csv` file (already in your working directory) as a Pandas DataFrame. "
   ]
  },
  {
   "cell_type": "code",
   "execution_count": null,
   "id": "219cd552",
   "metadata": {},
   "outputs": [],
   "source": [
    "df = ...\n",
    "df"
   ]
  },
  {
   "cell_type": "markdown",
   "id": "474bc1b6",
   "metadata": {},
   "source": [
    "**Problem 1.2**: Begin with an initial inspection of your dataframe. What are the column names? How many null values are in each column? What is the datatype of each column?\n",
    "\n",
    "*HINT:* Feel free to use a single Pandas method to get this information, or use several if you prefer that."
   ]
  },
  {
   "cell_type": "code",
   "execution_count": null,
   "id": "22d4955e",
   "metadata": {},
   "outputs": [],
   "source": []
  },
  {
   "cell_type": "markdown",
   "id": "bc62987d",
   "metadata": {},
   "source": [
    "## 2. Begin Data Preparation"
   ]
  },
  {
   "cell_type": "markdown",
   "id": "b15938eb",
   "metadata": {},
   "source": [
    "**Problem 2.1**: The current column names are not in a standardized format. Rename the columns so they are all in the form `lowercase_with_underscores`. \n",
    "\n",
    "*HINT:* When you are done, there should not be any special characters such as dashes or slashes. Replace them with underscores. "
   ]
  },
  {
   "cell_type": "code",
   "execution_count": null,
   "id": "e74a7585",
   "metadata": {},
   "outputs": [],
   "source": []
  },
  {
   "cell_type": "markdown",
   "id": "47fd09c2",
   "metadata": {},
   "source": [
    "**Problem 2.2:** Create a copy of your dataframe called `df_copy`, so that the original data will be accessible even after we make changes. "
   ]
  },
  {
   "cell_type": "code",
   "execution_count": null,
   "id": "1e055f27",
   "metadata": {},
   "outputs": [],
   "source": [
    "df_copy = ..."
   ]
  },
  {
   "cell_type": "markdown",
   "id": "e7abeb3b",
   "metadata": {},
   "source": [
    "**Problem 2.3**: Inspect the `number_non_passing` column of the `df` dataset. This is the number of students who did not pass that course. The `enrollment` column shows the total number of students who were enrolled in the course. We want to know the non-passing *rate* (the number of students who did not pass divided by the number of students enrolled) for each row in this dataset. Create a new column called `non_passing_rate` in your `df` DataFrame containing the non-passing rates.\n",
    "\n",
    "*HINT:* Remember that Pandas supports element-wise arithmetic. "
   ]
  },
  {
   "cell_type": "code",
   "execution_count": null,
   "id": "33737423",
   "metadata": {},
   "outputs": [],
   "source": [
    "# inspect number_non_passing column\n"
   ]
  },
  {
   "cell_type": "code",
   "execution_count": null,
   "id": "44ea005a",
   "metadata": {},
   "outputs": [],
   "source": [
    "# add non_passing_rate column\n"
   ]
  },
  {
   "cell_type": "markdown",
   "id": "183bf7be",
   "metadata": {},
   "source": [
    "**Problem 2.4**: Inspect the `course_code` column of the dataset. We want to extract the department abbreviation and the course number from the course code column. The cell below creates a new column called `department` based on the course code. \n",
    "\n",
    "Perform a similar operation to create a new column `course_number` in your `df` DataFrame containing the number from course code. Do not convert any data types; leave them as strings.\n",
    "\n",
    "*HINT*: You may find it helpful to use regular expression for this problem. The course number should only include the digits. For example, the course number for \"MATH101T\" should just be \"101\"."
   ]
  },
  {
   "cell_type": "code",
   "execution_count": null,
   "id": "ee3cb28d",
   "metadata": {},
   "outputs": [],
   "source": [
    "# run this cell to create the department column\n",
    "df['department'] = [re.findall('([A-Z]+)\\d+', i)[0] for i in df['course_code']]"
   ]
  },
  {
   "cell_type": "code",
   "execution_count": null,
   "id": "7a1cda36",
   "metadata": {},
   "outputs": [],
   "source": [
    "# inspect course_code column\n"
   ]
  },
  {
   "cell_type": "code",
   "execution_count": null,
   "id": "a7c9253d",
   "metadata": {},
   "outputs": [],
   "source": [
    "# add course_number column\n"
   ]
  },
  {
   "cell_type": "markdown",
   "id": "aac7f363",
   "metadata": {},
   "source": [
    "**Problem 2.5**: Inspect the `year_term` column of the dataset. We want to extract the year and the term in separate columns. Create two new columns called `year` and `term` in your `df` DataFrame containing the year and term respectively. Do not convert any data types; leave them as strings.\n",
    "\n",
    "*HINT*: You may find it helpful to use string methods (e.g. `str.split('-')`). Then index the parts you want. This can also be solved with regular expression if you prefer to use that."
   ]
  },
  {
   "cell_type": "code",
   "execution_count": null,
   "id": "49640e3e",
   "metadata": {},
   "outputs": [],
   "source": [
    "# inspect the year_term column\n"
   ]
  },
  {
   "cell_type": "code",
   "execution_count": null,
   "id": "6769a39e",
   "metadata": {},
   "outputs": [],
   "source": [
    "# add year and term columns\n"
   ]
  },
  {
   "cell_type": "markdown",
   "id": "5c936d8c",
   "metadata": {},
   "source": [
    "## 3. Visualize"
   ]
  },
  {
   "cell_type": "markdown",
   "id": "78e326bb",
   "metadata": {},
   "source": [
    "**Problem 3.1:** In the following two cells, there is a problem with the data visualizations. Identify what the problems are and make the necessary changes to the data to get the correct plots. \n",
    "\n",
    "Once you have made the correct plots, list two things you can learn from the plots. Explain any patterns (or lack thereof). "
   ]
  },
  {
   "cell_type": "code",
   "execution_count": null,
   "id": "575dbced",
   "metadata": {},
   "outputs": [],
   "source": [
    "# Visualize the relationship between course number and non-passing rate\n",
    "sns.scatterplot(data = df, x = 'course_number',y='non_passing_rate')\n",
    "plt.show()"
   ]
  },
  {
   "cell_type": "code",
   "execution_count": null,
   "id": "8253971a",
   "metadata": {},
   "outputs": [],
   "source": [
    "# Visualize the trend in non-passing rates over years\n",
    "sns.lineplot(data = df, x = 'year',y = 'non_passing_rate')\n",
    "plt.show()"
   ]
  },
  {
   "cell_type": "code",
   "execution_count": null,
   "id": "4730c8a0",
   "metadata": {},
   "outputs": [],
   "source": [
    "# Make necessary changes here\n"
   ]
  },
  {
   "cell_type": "code",
   "execution_count": null,
   "id": "bdf441a3",
   "metadata": {},
   "outputs": [],
   "source": [
    "# REDO: Visualize the relationship between course number and non-passing rate\n"
   ]
  },
  {
   "cell_type": "code",
   "execution_count": null,
   "id": "1d61ee85",
   "metadata": {},
   "outputs": [],
   "source": [
    "# REDO: Visualize the trend in non-passing rates over years\n"
   ]
  },
  {
   "cell_type": "markdown",
   "id": "2f729fbe",
   "metadata": {},
   "source": [
    "*Type your comments here replacing this text.*"
   ]
  },
  {
   "cell_type": "markdown",
   "id": "c256ee2e",
   "metadata": {},
   "source": [
    "**Problem 3.2:** Plot the correlation between all the numeric variables with a heatmap. (Be sure to annotate your heatmap with the correlation coefficients). After plotting the correlation heatmap, discuss which variables, if any, correlate with non-passing rates."
   ]
  },
  {
   "cell_type": "code",
   "execution_count": null,
   "id": "d03836cc",
   "metadata": {},
   "outputs": [],
   "source": []
  },
  {
   "cell_type": "markdown",
   "id": "6e0efadb",
   "metadata": {},
   "source": [
    "*Type your answer replacing this text.*"
   ]
  },
  {
   "cell_type": "markdown",
   "id": "50ce9d24",
   "metadata": {},
   "source": [
    "**Problem 3.3:** Visualize the relationships between the numeric variables with a Seaborn pairplot. After creating the pairplot, mention one thing you learn from the plot."
   ]
  },
  {
   "cell_type": "code",
   "execution_count": null,
   "id": "7a004b7c",
   "metadata": {},
   "outputs": [],
   "source": []
  },
  {
   "cell_type": "markdown",
   "id": "6c9ec853",
   "metadata": {},
   "source": [
    "*Type your answer replacing this text.*"
   ]
  },
  {
   "cell_type": "markdown",
   "id": "0bceb1e3",
   "metadata": {},
   "source": [
    "**Problem 3.4** Visualize the total number of courses (rows) in each `department`. After creating the plot, determine which department has the most courses in the dataset.\n",
    "\n",
    "*NOTE:* Each occurance of a course should be counted. For example, if MATH109 is listed twice because it was offered in Spring 2023 and Fall 2023, that should count as 2 courses in the MATH department category. Remember you can support your conclusion by using Pandas methods too."
   ]
  },
  {
   "cell_type": "code",
   "execution_count": null,
   "id": "17433fa1",
   "metadata": {},
   "outputs": [],
   "source": []
  },
  {
   "cell_type": "markdown",
   "id": "4cb404b0",
   "metadata": {},
   "source": [
    "*Type your answer replacing this text.*"
   ]
  },
  {
   "cell_type": "markdown",
   "id": "3a118263",
   "metadata": {},
   "source": [
    "**Problem 3.5:** For each `term`, visualize the smoothed distribution of non-passing rates. Are there any major differences in non-passing rate distributions in the fall vs the spring?"
   ]
  },
  {
   "cell_type": "code",
   "execution_count": null,
   "id": "5875abfb",
   "metadata": {},
   "outputs": [],
   "source": []
  },
  {
   "cell_type": "markdown",
   "id": "76549ca3",
   "metadata": {},
   "source": [
    "*Type your answer replacing this text.*"
   ]
  },
  {
   "cell_type": "markdown",
   "id": "a18a2448",
   "metadata": {},
   "source": [
    "**Problem 3.6:** Visualize the min, 1st quartile, median, 3rd quartile, max and any outliers of non-passing rates for each department. \n",
    "\n",
    "*HINT:* Recall that if you choose to put department along the x-axis, you can use \n",
    "```python\n",
    "plt.xticks(rotation=90)\n",
    "```\n",
    "to make your xtick labels easier to read. You can also use \n",
    "```python\n",
    "plt.figure(figsize=(12,4))\n",
    "```\n",
    "to change your figure ratios.\n",
    "\n",
    "\n",
    "Once you have created the plot, list two things that you can learn from the plot. For example, which departments tend to have courses with high non-passing rates. Are there any interesting outliers?"
   ]
  },
  {
   "cell_type": "code",
   "execution_count": null,
   "id": "4f58cb93",
   "metadata": {},
   "outputs": [],
   "source": []
  },
  {
   "cell_type": "markdown",
   "id": "e6f3430a",
   "metadata": {},
   "source": [
    "*Type your answer replacing this text.*"
   ]
  },
  {
   "cell_type": "markdown",
   "id": "fcd65f7a",
   "metadata": {},
   "source": [
    "## 4. More exploration"
   ]
  },
  {
   "cell_type": "markdown",
   "id": "dae3b7ef",
   "metadata": {},
   "source": [
    "**Problem 4.1:** Determine which course had the highest non-passing rate overall in the dataset. In which term did it occur?"
   ]
  },
  {
   "cell_type": "code",
   "execution_count": null,
   "id": "bb029f6b",
   "metadata": {
    "scrolled": false
   },
   "outputs": [],
   "source": []
  },
  {
   "cell_type": "markdown",
   "id": "c2a8b2e1",
   "metadata": {},
   "source": [
    "**Problem 4.2:** Determine which department had the highest *median* non-passing rate in the dataset.\n",
    "\n",
    "Create a subset of the original `df` containing only the data associated with that department. Call this `df_subset`. Plot the relationship between the course number and non-passing rate for your `df_subset` data and include a regression line in the plot. Do students tend to struggle more in lower division courses or upper division courses?"
   ]
  },
  {
   "cell_type": "code",
   "execution_count": null,
   "id": "57085099",
   "metadata": {},
   "outputs": [],
   "source": [
    "df_subset = ..."
   ]
  },
  {
   "cell_type": "code",
   "execution_count": null,
   "id": "00803d3e",
   "metadata": {},
   "outputs": [],
   "source": [
    "# Visualization here\n"
   ]
  },
  {
   "cell_type": "markdown",
   "id": "695718ba",
   "metadata": {},
   "source": [
    "*Type your answer replacing this text.*"
   ]
  },
  {
   "cell_type": "markdown",
   "id": "5de099f8",
   "metadata": {},
   "source": [
    "**Problem 4.3:** Using `df_subset`, visualize the average non-passing rate for each course code. After creating the visualization, mention which courses seem particularly challenging for students on average."
   ]
  },
  {
   "cell_type": "code",
   "execution_count": null,
   "id": "1ee2ad01",
   "metadata": {},
   "outputs": [],
   "source": [
    "# Visualization here\n"
   ]
  },
  {
   "cell_type": "markdown",
   "id": "cfc0464c",
   "metadata": {},
   "source": [
    "*Type your answer replacing this text.*"
   ]
  },
  {
   "cell_type": "markdown",
   "id": "27aeb9a1",
   "metadata": {},
   "source": [
    "## 5. (Extra Credit) Your exploration"
   ]
  },
  {
   "cell_type": "markdown",
   "id": "a39991d2",
   "metadata": {},
   "source": [
    "**Problem 5.1**: Create a question (or several questions) about this dataset and use a data visualization and/or Pandas methods to begin answering it. Explain your thought process. "
   ]
  },
  {
   "cell_type": "markdown",
   "id": "c9122d3d",
   "metadata": {},
   "source": [
    "*Your question(s) here*"
   ]
  },
  {
   "cell_type": "code",
   "execution_count": 1,
   "id": "4e9abda3",
   "metadata": {},
   "outputs": [],
   "source": [
    "# Your code here"
   ]
  },
  {
   "cell_type": "markdown",
   "id": "25626140",
   "metadata": {},
   "source": [
    "**Problem 5.2**: Based on what you found in this exploratory data analysis, write a letter to Cal Poly Humboldt administrators providing information about their students' success over the last decade. Make initial recommendations for where they could consider focusing their efforts in order to support and improve student pass rates.\n",
    "\n",
    "*NOTE:* This is just an exercise. I will not send your letters to administrators."
   ]
  },
  {
   "cell_type": "markdown",
   "id": "2322b035",
   "metadata": {},
   "source": [
    "*Type your answer replacing this text.*"
   ]
  },
  {
   "cell_type": "markdown",
   "id": "5408b49e",
   "metadata": {},
   "source": [
    "**Problem 6.1 Bonus:**: Recreate the following plot.\n",
    "<img src=\"humboldt_replicate_plot.png\" alt=\"drawing\" width=\"1000\"/>"
   ]
  },
  {
   "cell_type": "markdown",
   "id": "5ac4e223",
   "metadata": {},
   "source": [
    "## You're done! \n",
    "Congratulations! Submit your completed notebook to Canvas.\n",
    "\n",
    "<img src=\"gus_daydreaming_of_food.JPG\" alt=\"drawing\" width=\"300\"/>"
   ]
  },
  {
   "cell_type": "code",
   "execution_count": null,
   "id": "f9fad7c3",
   "metadata": {},
   "outputs": [],
   "source": []
  }
 ],
 "metadata": {
  "kernelspec": {
   "display_name": "Python 3 (ipykernel)",
   "language": "python",
   "name": "python3"
  },
  "language_info": {
   "codemirror_mode": {
    "name": "ipython",
    "version": 3
   },
   "file_extension": ".py",
   "mimetype": "text/x-python",
   "name": "python",
   "nbconvert_exporter": "python",
   "pygments_lexer": "ipython3",
   "version": "3.11.4"
  }
 },
 "nbformat": 4,
 "nbformat_minor": 5
}
