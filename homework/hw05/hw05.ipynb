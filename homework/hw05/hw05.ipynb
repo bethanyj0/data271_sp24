{
 "cells": [
  {
   "cell_type": "code",
   "execution_count": null,
   "id": "614b3112",
   "metadata": {
    "deletable": false,
    "editable": false
   },
   "outputs": [],
   "source": [
    "# Initialize Otter\n",
    "import otter\n",
    "grader = otter.Notebook(\"hw05.ipynb\")"
   ]
  },
  {
   "cell_type": "markdown",
   "id": "795249bb",
   "metadata": {},
   "source": [
    "# Homework 5\n",
    "\n",
    "Welcome to Homework 5 of DATA 271: Data Wrangling and Visualization! In this assignment, we will practice importing data from an API and exploring data with advanced visualization methods. As always, if you get stuck or have questions feel free to discuss problems with your peers and come to office hours. \n",
    "\n",
    "For this homework and all future ones, please be sure to not re-assign variables throughout the notebook! For example, if you use `my_list` in your answer to one question, do not reassign it later on. Otherwise, you will fail tests that you passed previously. **NOTE:** This homework assignment contains hidden tests. Passing all the auto-graded tests in the assignment does *NOT* mean you have answered everything correctly. So be careful and check your work!"
   ]
  },
  {
   "cell_type": "markdown",
   "id": "0263e7f8",
   "metadata": {},
   "source": [
    "### Import libraries"
   ]
  },
  {
   "cell_type": "markdown",
   "id": "d0efb5e6",
   "metadata": {},
   "source": [
    "**Question 0:** Import the appropriate modules for this assignment including NumPy, Pandas, Matplotlib, and Seaborn, Regular Expression (re), and Requests. **(5 Points)**"
   ]
  },
  {
   "cell_type": "code",
   "execution_count": null,
   "id": "fa981572",
   "metadata": {
    "execution": {
     "iopub.execute_input": "2022-01-21T06:53:52.800261Z",
     "iopub.status.busy": "2022-01-21T06:53:52.799643Z",
     "iopub.status.idle": "2022-01-21T06:53:52.803489Z",
     "shell.execute_reply": "2022-01-21T06:53:52.802912Z"
    },
    "tags": []
   },
   "outputs": [],
   "source": []
  },
  {
   "cell_type": "markdown",
   "id": "10a06bff",
   "metadata": {},
   "source": [
    "### 1. Importing the data\n",
    "\n",
    "In this assignment, we will explore housing data from Humboldt county in California. To aquire the data, we will use an API for Zillow. To get started, go to https://www.scrapeak.com/zillow-scraper/ click on \"Try for free\". Create an account and enter all your relevant information. Once you have created your account and signed in, go to the \"Account\" tab on the left and copy your API Key at the bottom of the page.\n",
    "\n",
    "*NOTE:* Creating an account is entirely free. You should **NOT** enter any payment information. If you end up on a page that prompts you for payment info, go to the Plans page and make sure you've selected \"Starter.\""
   ]
  },
  {
   "cell_type": "markdown",
   "id": "0ebdb5c2",
   "metadata": {},
   "source": [
    "**Question 1.1:** Assign your copied API Key to the string `api_key`. **(5 Points)**"
   ]
  },
  {
   "cell_type": "code",
   "execution_count": null,
   "id": "f89b0cd5",
   "metadata": {
    "execution": {
     "iopub.execute_input": "2022-01-21T06:53:52.800261Z",
     "iopub.status.busy": "2022-01-21T06:53:52.799643Z",
     "iopub.status.idle": "2022-01-21T06:53:52.803489Z",
     "shell.execute_reply": "2022-01-21T06:53:52.802912Z"
    },
    "tags": []
   },
   "outputs": [],
   "source": [
    "api_key = ..."
   ]
  },
  {
   "cell_type": "code",
   "execution_count": null,
   "id": "4bd2327c",
   "metadata": {
    "deletable": false,
    "editable": false
   },
   "outputs": [],
   "source": [
    "grader.check(\"q1_1\")"
   ]
  },
  {
   "cell_type": "markdown",
   "id": "94b28232",
   "metadata": {},
   "source": [
    "**Question 1.2:** Go to https://www.zillow.com/ and in the search bar type \"Humboldt County, CA\". This should take you to a page with search results. There should be a map on the left side of the page, and a list of properties on the right side. Try using the `For Sale` toggle and switch to look at properties `For Rent`. Click back to `For Sale` since this will be the data we import. Once you get the search results copy the URL (it should be pretty long) and assign it to the variable `zillow_url`. **(5 Points)**"
   ]
  },
  {
   "cell_type": "code",
   "execution_count": null,
   "id": "0b0c2f03",
   "metadata": {
    "execution": {
     "iopub.execute_input": "2022-01-21T06:53:52.800261Z",
     "iopub.status.busy": "2022-01-21T06:53:52.799643Z",
     "iopub.status.idle": "2022-01-21T06:53:52.803489Z",
     "shell.execute_reply": "2022-01-21T06:53:52.802912Z"
    },
    "tags": []
   },
   "outputs": [],
   "source": [
    "zillow_url = ..."
   ]
  },
  {
   "cell_type": "code",
   "execution_count": null,
   "id": "695bf6ed",
   "metadata": {
    "deletable": false,
    "editable": false
   },
   "outputs": [],
   "source": [
    "grader.check(\"q1_2\")"
   ]
  },
  {
   "cell_type": "markdown",
   "id": "fef11509",
   "metadata": {},
   "source": [
    "**Question 1.3:** I have created a function called `get_listings` for you. Call the function using your API Key and your Zillow URL as arguments. **(5 Points)**"
   ]
  },
  {
   "cell_type": "code",
   "execution_count": null,
   "id": "0416805f",
   "metadata": {
    "execution": {
     "iopub.execute_input": "2022-01-21T06:53:52.800261Z",
     "iopub.status.busy": "2022-01-21T06:53:52.799643Z",
     "iopub.status.idle": "2022-01-21T06:53:52.803489Z",
     "shell.execute_reply": "2022-01-21T06:53:52.802912Z"
    },
    "tags": []
   },
   "outputs": [],
   "source": [
    "def get_listings(api_key, url):\n",
    "    api = \"https://app.scrapeak.com/v1/scrapers/zillow/listing\"\n",
    "    return requests.get(api, params={\"api_key\": api_key,\"url\":url})\n",
    "\n",
    "# get listings\n",
    "listing_response = ..."
   ]
  },
  {
   "cell_type": "code",
   "execution_count": null,
   "id": "deebe5a2",
   "metadata": {
    "deletable": false,
    "editable": false
   },
   "outputs": [],
   "source": [
    "grader.check(\"q1_3\")"
   ]
  },
  {
   "cell_type": "markdown",
   "id": "2b48bfc3",
   "metadata": {},
   "source": [
    "### 2. Inspecting the data"
   ]
  },
  {
   "cell_type": "markdown",
   "id": "88968402",
   "metadata": {},
   "source": [
    "**Question 2.1:** Check what data type `listing_response` is. **(5 Points)**"
   ]
  },
  {
   "cell_type": "code",
   "execution_count": null,
   "id": "3af09481",
   "metadata": {
    "execution": {
     "iopub.execute_input": "2022-01-21T06:53:52.800261Z",
     "iopub.status.busy": "2022-01-21T06:53:52.799643Z",
     "iopub.status.idle": "2022-01-21T06:53:52.803489Z",
     "shell.execute_reply": "2022-01-21T06:53:52.802912Z"
    },
    "tags": []
   },
   "outputs": [],
   "source": [
    "listing_response_type = ...\n",
    "listing_response_type"
   ]
  },
  {
   "cell_type": "code",
   "execution_count": null,
   "id": "5b5de5d7",
   "metadata": {
    "deletable": false,
    "editable": false
   },
   "outputs": [],
   "source": [
    "grader.check(\"q2_1\")"
   ]
  },
  {
   "cell_type": "markdown",
   "id": "b3d075b9",
   "metadata": {},
   "source": [
    "**Question 2.2:** Recall that a payload in API is the actual data pack that is sent with the `GET` method. The payload can be sent or received in various formats, including JSON.\n",
    "The two primary parts that make up JSON are keys and values like a dictionary. Use the `.json()` method on the listing response object to get the payload and assign it to `payload`. \n",
    "\n",
    "Then inspect the keys of `payload`. \n",
    "\n",
    "One of the keys should be called `is_success`. Access the `is_success` key of `payload` and make sure it has the value `True`. **(5 Points)**"
   ]
  },
  {
   "cell_type": "code",
   "execution_count": null,
   "id": "84bce2b1",
   "metadata": {
    "execution": {
     "iopub.execute_input": "2022-01-21T06:53:52.800261Z",
     "iopub.status.busy": "2022-01-21T06:53:52.799643Z",
     "iopub.status.idle": "2022-01-21T06:53:52.803489Z",
     "shell.execute_reply": "2022-01-21T06:53:52.802912Z"
    },
    "tags": []
   },
   "outputs": [],
   "source": [
    "payload = ..."
   ]
  },
  {
   "cell_type": "code",
   "execution_count": null,
   "id": "2607d735",
   "metadata": {
    "deletable": false,
    "editable": false
   },
   "outputs": [],
   "source": [
    "grader.check(\"q2_2\")"
   ]
  },
  {
   "cell_type": "markdown",
   "id": "0c38033b",
   "metadata": {},
   "source": [
    "**Question 2.3:** Take a look at the value associated with the `data` key in `payload`. What data type is it? **(5 Points)**"
   ]
  },
  {
   "cell_type": "code",
   "execution_count": null,
   "id": "ffa5e665",
   "metadata": {
    "execution": {
     "iopub.execute_input": "2022-01-21T06:53:52.800261Z",
     "iopub.status.busy": "2022-01-21T06:53:52.799643Z",
     "iopub.status.idle": "2022-01-21T06:53:52.803489Z",
     "shell.execute_reply": "2022-01-21T06:53:52.802912Z"
    },
    "tags": []
   },
   "outputs": [],
   "source": [
    "response_data = ..."
   ]
  },
  {
   "cell_type": "code",
   "execution_count": null,
   "id": "be1c9403",
   "metadata": {
    "deletable": false,
    "editable": false
   },
   "outputs": [],
   "source": [
    "grader.check(\"q2_3\")"
   ]
  },
  {
   "cell_type": "markdown",
   "id": "694f6f52",
   "metadata": {},
   "source": [
    "**Question 2.4:** Take some time to inspect the keys of `response_data` to get a feel for what is stored in it. Then, when you are ready, put the data from \n",
    "```python\n",
    "response_data[\"cat1\"][\"searchResults\"][\"mapResults\"]\n",
    "``` \n",
    "into a Pandas DataFrame called `humboldt_df`.\n",
    "**(5 Points)**"
   ]
  },
  {
   "cell_type": "code",
   "execution_count": null,
   "id": "c5a5c3ff",
   "metadata": {
    "execution": {
     "iopub.execute_input": "2022-01-21T06:53:52.800261Z",
     "iopub.status.busy": "2022-01-21T06:53:52.799643Z",
     "iopub.status.idle": "2022-01-21T06:53:52.803489Z",
     "shell.execute_reply": "2022-01-21T06:53:52.802912Z"
    },
    "tags": []
   },
   "outputs": [],
   "source": [
    "humboldt_df = ...\n",
    "humboldt_df.head()"
   ]
  },
  {
   "cell_type": "code",
   "execution_count": null,
   "id": "35d460c6",
   "metadata": {
    "deletable": false,
    "editable": false
   },
   "outputs": [],
   "source": [
    "grader.check(\"q2_4\")"
   ]
  },
  {
   "cell_type": "markdown",
   "id": "ceaaf3c5",
   "metadata": {},
   "source": [
    "**Question 2.5:** How many rows and columns are in `humboldt_df`? **(5 Points)**"
   ]
  },
  {
   "cell_type": "code",
   "execution_count": null,
   "id": "0a968721",
   "metadata": {
    "execution": {
     "iopub.execute_input": "2022-01-21T06:53:52.800261Z",
     "iopub.status.busy": "2022-01-21T06:53:52.799643Z",
     "iopub.status.idle": "2022-01-21T06:53:52.803489Z",
     "shell.execute_reply": "2022-01-21T06:53:52.802912Z"
    },
    "tags": []
   },
   "outputs": [],
   "source": [
    "num_rows = ...\n",
    "num_cols = ...\n",
    "\n",
    "num_rows,num_cols"
   ]
  },
  {
   "cell_type": "code",
   "execution_count": null,
   "id": "a573fd0e",
   "metadata": {
    "deletable": false,
    "editable": false
   },
   "outputs": [],
   "source": [
    "grader.check(\"q2_5\")"
   ]
  },
  {
   "cell_type": "markdown",
   "id": "495febff",
   "metadata": {},
   "source": [
    "<!-- BEGIN QUESTION -->\n",
    "\n",
    "**Question 2.6:** To avoid making too many identical API requests in the future, save the data in `humbold_df` to a csv with the `to_csv` method. i.e. run\n",
    "\n",
    "```python\n",
    "humboldt_df.to_csv('humboldt_zillow_data.csv') \n",
    "```\n",
    "\n",
    "Check your working directory to verify that you have saved the data in a csv. When you come back to this assignment, you may import the data with `pd.read_csv` instead of using `requests.get` every time. \n",
    "\n",
    "**(5 Points)**"
   ]
  },
  {
   "cell_type": "code",
   "execution_count": null,
   "id": "9fefc26b",
   "metadata": {
    "execution": {
     "iopub.execute_input": "2022-01-21T06:53:52.800261Z",
     "iopub.status.busy": "2022-01-21T06:53:52.799643Z",
     "iopub.status.idle": "2022-01-21T06:53:52.803489Z",
     "shell.execute_reply": "2022-01-21T06:53:52.802912Z"
    },
    "tags": []
   },
   "outputs": [],
   "source": []
  },
  {
   "cell_type": "markdown",
   "id": "94b6129e",
   "metadata": {},
   "source": [
    "<!-- END QUESTION -->\n",
    "\n",
    "**Question 2.7:** Create a copy of `humboldt_df` so that we have an original copy of the data after we make changes to it in our analysis. **(5 Points)**"
   ]
  },
  {
   "cell_type": "code",
   "execution_count": null,
   "id": "842cd818",
   "metadata": {
    "execution": {
     "iopub.execute_input": "2022-01-21T06:53:52.800261Z",
     "iopub.status.busy": "2022-01-21T06:53:52.799643Z",
     "iopub.status.idle": "2022-01-21T06:53:52.803489Z",
     "shell.execute_reply": "2022-01-21T06:53:52.802912Z"
    },
    "tags": []
   },
   "outputs": [],
   "source": [
    "humboldt_df_copy = ..."
   ]
  },
  {
   "cell_type": "code",
   "execution_count": null,
   "id": "3888dc0d",
   "metadata": {
    "deletable": false,
    "editable": false
   },
   "outputs": [],
   "source": [
    "grader.check(\"q2_7\")"
   ]
  },
  {
   "cell_type": "markdown",
   "id": "35005d3b",
   "metadata": {},
   "source": [
    "**Question 2.8:** Begin inspecting the `humboldt_df` dataframe with methods like `.describe()` and `.info()`. Which columns have null values? Visualize the null values with a heatmap. Comment on what you see. **(5 Points)**"
   ]
  },
  {
   "cell_type": "markdown",
   "id": "d3b47df6",
   "metadata": {},
   "source": [
    "_Type your answer here, replacing this text._"
   ]
  },
  {
   "cell_type": "code",
   "execution_count": null,
   "id": "dcbfc29d",
   "metadata": {
    "execution": {
     "iopub.execute_input": "2022-01-21T06:53:52.800261Z",
     "iopub.status.busy": "2022-01-21T06:53:52.799643Z",
     "iopub.status.idle": "2022-01-21T06:53:52.803489Z",
     "shell.execute_reply": "2022-01-21T06:53:52.802912Z"
    },
    "tags": []
   },
   "outputs": [],
   "source": []
  },
  {
   "cell_type": "code",
   "execution_count": null,
   "id": "93f60de2",
   "metadata": {
    "tags": []
   },
   "outputs": [],
   "source": [
    "null_vals_heat = ...\n",
    "plt.show()"
   ]
  },
  {
   "cell_type": "code",
   "execution_count": null,
   "id": "0741ab04",
   "metadata": {
    "deletable": false,
    "editable": false
   },
   "outputs": [],
   "source": [
    "grader.check(\"q2_8\")"
   ]
  },
  {
   "cell_type": "markdown",
   "id": "6d7fac6d",
   "metadata": {},
   "source": [
    "### 3. Preprocess/Clean the Data"
   ]
  },
  {
   "cell_type": "markdown",
   "id": "7b4e0776",
   "metadata": {},
   "source": [
    "**Question 3.1:** We saw in the previous problem that some of columns have many null values. Drop any columns from `humboldt_df` that have more than 250 null values. **(5 Points)**"
   ]
  },
  {
   "cell_type": "code",
   "execution_count": null,
   "id": "e94c2976",
   "metadata": {
    "execution": {
     "iopub.execute_input": "2022-01-21T06:53:52.800261Z",
     "iopub.status.busy": "2022-01-21T06:53:52.799643Z",
     "iopub.status.idle": "2022-01-21T06:53:52.803489Z",
     "shell.execute_reply": "2022-01-21T06:53:52.802912Z"
    },
    "tags": []
   },
   "outputs": [],
   "source": [
    "humboldt_df = ...\n",
    "humboldt_df.head()"
   ]
  },
  {
   "cell_type": "code",
   "execution_count": null,
   "id": "c9a65d63",
   "metadata": {
    "deletable": false,
    "editable": false
   },
   "outputs": [],
   "source": [
    "grader.check(\"q3_1\")"
   ]
  },
  {
   "cell_type": "markdown",
   "id": "174d861c",
   "metadata": {},
   "source": [
    "**Question 3.2:** Take a look at the `price` column. What data type is each element in the column? **(5 Points)**"
   ]
  },
  {
   "cell_type": "code",
   "execution_count": null,
   "id": "973407fc",
   "metadata": {
    "execution": {
     "iopub.execute_input": "2022-01-21T06:53:52.800261Z",
     "iopub.status.busy": "2022-01-21T06:53:52.799643Z",
     "iopub.status.idle": "2022-01-21T06:53:52.803489Z",
     "shell.execute_reply": "2022-01-21T06:53:52.802912Z"
    },
    "tags": []
   },
   "outputs": [],
   "source": [
    "price_type = ..."
   ]
  },
  {
   "cell_type": "code",
   "execution_count": null,
   "id": "790cc01e",
   "metadata": {
    "deletable": false,
    "editable": false
   },
   "outputs": [],
   "source": [
    "grader.check(\"q3_2\")"
   ]
  },
  {
   "cell_type": "markdown",
   "id": "472b5f09",
   "metadata": {},
   "source": [
    "**Question 3.3:** We want the price column to be type int. Convert it to type int?\n",
    "\n",
    "*HINT:* You will probably have to start by removing the dollar signs and the commas from each entry. Then remove the word \"From\" from the entries that have it. Then replace \"K\" with \"000\". Once you have done the steps above, you should be able to convert it to type int. **(5 Points)**"
   ]
  },
  {
   "cell_type": "code",
   "execution_count": null,
   "id": "4bb81965",
   "metadata": {
    "execution": {
     "iopub.execute_input": "2022-01-21T06:53:52.800261Z",
     "iopub.status.busy": "2022-01-21T06:53:52.799643Z",
     "iopub.status.idle": "2022-01-21T06:53:52.803489Z",
     "shell.execute_reply": "2022-01-21T06:53:52.802912Z"
    },
    "tags": []
   },
   "outputs": [],
   "source": [
    "# convert price to int\n",
    "humboldt_df['price']= ...\n",
    "humboldt_df.head()"
   ]
  },
  {
   "cell_type": "code",
   "execution_count": null,
   "id": "b9ea3ec2",
   "metadata": {
    "deletable": false,
    "editable": false
   },
   "outputs": [],
   "source": [
    "grader.check(\"q3_3\")"
   ]
  },
  {
   "cell_type": "markdown",
   "id": "2b24e1da",
   "metadata": {},
   "source": [
    "**Question 3.4:** Take a look at the `latLong` column. What datatype is each element of the column? Create two new columns in `humboldt_df`. One should be called `lat` containing the latitude coordinate of the listing and one should be called `lon` containing the longitude coordinate. Once you create these new columns, we will drop the original `latLong` column. **(5 Points)**"
   ]
  },
  {
   "cell_type": "code",
   "execution_count": null,
   "id": "3c26aed3",
   "metadata": {
    "execution": {
     "iopub.execute_input": "2022-01-21T06:53:52.800261Z",
     "iopub.status.busy": "2022-01-21T06:53:52.799643Z",
     "iopub.status.idle": "2022-01-21T06:53:52.803489Z",
     "shell.execute_reply": "2022-01-21T06:53:52.802912Z"
    },
    "tags": []
   },
   "outputs": [],
   "source": [
    "# make a lat lon columns\n",
    "humboldt_df['lat'] = ...\n",
    "humboldt_df['lon'] = ..."
   ]
  },
  {
   "cell_type": "code",
   "execution_count": null,
   "id": "6efe2ba8",
   "metadata": {
    "tags": []
   },
   "outputs": [],
   "source": [
    "# drop latLong\n",
    "humboldt_df = humboldt_df.drop(columns = 'latLong')\n",
    "humboldt_df.head()"
   ]
  },
  {
   "cell_type": "code",
   "execution_count": null,
   "id": "8c0f5752",
   "metadata": {
    "deletable": false,
    "editable": false
   },
   "outputs": [],
   "source": [
    "grader.check(\"q3_4\")"
   ]
  },
  {
   "cell_type": "markdown",
   "id": "e98e6a4b",
   "metadata": {},
   "source": [
    "**Question 3.5:** We want to be able to look at data by city. Create a new column called `city` containing the city that the listing is in. \n",
    "\n",
    "*HINT:* The `address` column contains the city before \", CA\". Regular expression might help you. **(5 Points)**"
   ]
  },
  {
   "cell_type": "code",
   "execution_count": null,
   "id": "c160add8",
   "metadata": {
    "execution": {
     "iopub.execute_input": "2022-01-21T06:53:52.800261Z",
     "iopub.status.busy": "2022-01-21T06:53:52.799643Z",
     "iopub.status.idle": "2022-01-21T06:53:52.803489Z",
     "shell.execute_reply": "2022-01-21T06:53:52.802912Z"
    },
    "tags": []
   },
   "outputs": [],
   "source": [
    "# make a lat lon columns\n",
    "humboldt_df['city'] = ...\n",
    "humboldt_df.head()"
   ]
  },
  {
   "cell_type": "code",
   "execution_count": null,
   "id": "7566ed08",
   "metadata": {
    "deletable": false,
    "editable": false
   },
   "outputs": [],
   "source": [
    "grader.check(\"q3_5\")"
   ]
  },
  {
   "cell_type": "markdown",
   "id": "debc2f95",
   "metadata": {},
   "source": [
    "**Question 3.6:** Take a look at the `hdpData` column. What datatype is each element of the column? Using this column, create two new columns in `humboldt_df`. One should be called `homeType` containing the type of listing (e.g. Single Family, Lot/Land, etc.) and one should be called `rentZestimate` containing the rent estimate of the property. \n",
    "\n",
    "*NOTE:* There may be some NaN values in the `hdpData`. Keep those values as `NaN` in your new columns. **(5 Points)**"
   ]
  },
  {
   "cell_type": "code",
   "execution_count": null,
   "id": "2bfde492",
   "metadata": {
    "execution": {
     "iopub.execute_input": "2022-01-21T06:53:52.800261Z",
     "iopub.status.busy": "2022-01-21T06:53:52.799643Z",
     "iopub.status.idle": "2022-01-21T06:53:52.803489Z",
     "shell.execute_reply": "2022-01-21T06:53:52.802912Z"
    },
    "tags": []
   },
   "outputs": [],
   "source": [
    "humboldt_df['homeType'] = ...\n",
    "humboldt_df['rentZestimate'] = ...\n",
    "humboldt_df.head()"
   ]
  },
  {
   "cell_type": "code",
   "execution_count": null,
   "id": "9897ba52",
   "metadata": {
    "deletable": false,
    "editable": false
   },
   "outputs": [],
   "source": [
    "grader.check(\"q3_6\")"
   ]
  },
  {
   "cell_type": "markdown",
   "id": "e416c51f",
   "metadata": {},
   "source": [
    "### 4. Visualize the data"
   ]
  },
  {
   "cell_type": "markdown",
   "id": "cc3f3e48",
   "metadata": {},
   "source": [
    "**Question 4.1:** Create a plot showing the number of listings in each city. **(5 Points)**"
   ]
  },
  {
   "cell_type": "code",
   "execution_count": null,
   "id": "da6925e7",
   "metadata": {
    "execution": {
     "iopub.execute_input": "2022-01-21T06:53:52.800261Z",
     "iopub.status.busy": "2022-01-21T06:53:52.799643Z",
     "iopub.status.idle": "2022-01-21T06:53:52.803489Z",
     "shell.execute_reply": "2022-01-21T06:53:52.802912Z"
    },
    "tags": []
   },
   "outputs": [],
   "source": [
    "city_counts = ..."
   ]
  },
  {
   "cell_type": "code",
   "execution_count": null,
   "id": "1ddb1fbf",
   "metadata": {
    "deletable": false,
    "editable": false
   },
   "outputs": [],
   "source": [
    "grader.check(\"q4_1\")"
   ]
  },
  {
   "cell_type": "markdown",
   "id": "0aae6e67",
   "metadata": {},
   "source": [
    "**Question 4.2:** Create a boxplot showing the 5 number summary of prices for homes in each city. Comment on what you notice. **(5 Points)**"
   ]
  },
  {
   "cell_type": "markdown",
   "id": "c0c5cac3",
   "metadata": {},
   "source": [
    "_Type your answer here, replacing this text._"
   ]
  },
  {
   "cell_type": "code",
   "execution_count": null,
   "id": "f10feb4e",
   "metadata": {
    "execution": {
     "iopub.execute_input": "2022-01-21T06:53:52.800261Z",
     "iopub.status.busy": "2022-01-21T06:53:52.799643Z",
     "iopub.status.idle": "2022-01-21T06:53:52.803489Z",
     "shell.execute_reply": "2022-01-21T06:53:52.802912Z"
    },
    "tags": []
   },
   "outputs": [],
   "source": [
    "city_prices = ..."
   ]
  },
  {
   "cell_type": "code",
   "execution_count": null,
   "id": "86f502b7",
   "metadata": {
    "deletable": false,
    "editable": false
   },
   "outputs": [],
   "source": [
    "grader.check(\"q4_2\")"
   ]
  },
  {
   "cell_type": "markdown",
   "id": "b56b2d9c",
   "metadata": {},
   "source": [
    "**Question 4.3:** Create a plot showing the count of each home type in the dataset. **(5 Points)**"
   ]
  },
  {
   "cell_type": "markdown",
   "id": "0b67c097",
   "metadata": {},
   "source": [
    "_Type your answer here, replacing this text._"
   ]
  },
  {
   "cell_type": "code",
   "execution_count": null,
   "id": "e74f62fa",
   "metadata": {
    "execution": {
     "iopub.execute_input": "2022-01-21T06:53:52.800261Z",
     "iopub.status.busy": "2022-01-21T06:53:52.799643Z",
     "iopub.status.idle": "2022-01-21T06:53:52.803489Z",
     "shell.execute_reply": "2022-01-21T06:53:52.802912Z"
    },
    "tags": []
   },
   "outputs": [],
   "source": [
    "home_type_counts = ..."
   ]
  },
  {
   "cell_type": "code",
   "execution_count": null,
   "id": "2b506eb3",
   "metadata": {
    "deletable": false,
    "editable": false
   },
   "outputs": [],
   "source": [
    "grader.check(\"q4_3\")"
   ]
  },
  {
   "cell_type": "markdown",
   "id": "b4e8323f",
   "metadata": {},
   "source": [
    "**Question 4.4:** Create a violin plot showing the distribution of prices of each home type in the dataset. Comment on what you see. **(5 Points)**"
   ]
  },
  {
   "cell_type": "markdown",
   "id": "54ddfc87",
   "metadata": {},
   "source": [
    "_Type your answer here, replacing this text._"
   ]
  },
  {
   "cell_type": "code",
   "execution_count": null,
   "id": "687fe828",
   "metadata": {
    "execution": {
     "iopub.execute_input": "2022-01-21T06:53:52.800261Z",
     "iopub.status.busy": "2022-01-21T06:53:52.799643Z",
     "iopub.status.idle": "2022-01-21T06:53:52.803489Z",
     "shell.execute_reply": "2022-01-21T06:53:52.802912Z"
    },
    "tags": []
   },
   "outputs": [],
   "source": [
    "home_type_prices = ..."
   ]
  },
  {
   "cell_type": "code",
   "execution_count": null,
   "id": "34a462da",
   "metadata": {
    "deletable": false,
    "editable": false
   },
   "outputs": [],
   "source": [
    "grader.check(\"q4_4\")"
   ]
  },
  {
   "cell_type": "markdown",
   "id": "d6cbf84c",
   "metadata": {},
   "source": [
    "**Question 4.5:** Create a KDE plot for for the price of each home type. \n",
    "\n",
    "*NOTE:* Facet the plot by home type so that you have a separate subplot for each home type. **(5 Points)**"
   ]
  },
  {
   "cell_type": "code",
   "execution_count": null,
   "id": "14753c99",
   "metadata": {
    "execution": {
     "iopub.execute_input": "2022-01-21T06:53:52.800261Z",
     "iopub.status.busy": "2022-01-21T06:53:52.799643Z",
     "iopub.status.idle": "2022-01-21T06:53:52.803489Z",
     "shell.execute_reply": "2022-01-21T06:53:52.802912Z"
    },
    "tags": []
   },
   "outputs": [],
   "source": [
    "home_type_prices = ..."
   ]
  },
  {
   "cell_type": "code",
   "execution_count": null,
   "id": "d31eb336",
   "metadata": {
    "deletable": false,
    "editable": false
   },
   "outputs": [],
   "source": [
    "grader.check(\"q4_5\")"
   ]
  },
  {
   "cell_type": "markdown",
   "id": "f48c067a",
   "metadata": {},
   "source": [
    "**Question 4.6:** Create a figure with 6 subplots corresponding to the variables `area`, `beds`, `baths`, `lat`, `lon`, and `price`. Each subplot should contain one boxplot showing the distribution of the variable. Comment on anything interesting you see. **(5 Points)**"
   ]
  },
  {
   "cell_type": "markdown",
   "id": "fbe90d38",
   "metadata": {},
   "source": [
    "_Type your answer here, replacing this text._"
   ]
  },
  {
   "cell_type": "code",
   "execution_count": null,
   "id": "815a92c6",
   "metadata": {
    "execution": {
     "iopub.execute_input": "2022-01-21T06:53:52.800261Z",
     "iopub.status.busy": "2022-01-21T06:53:52.799643Z",
     "iopub.status.idle": "2022-01-21T06:53:52.803489Z",
     "shell.execute_reply": "2022-01-21T06:53:52.802912Z"
    },
    "tags": []
   },
   "outputs": [],
   "source": [
    "boxplots_fig, ax = ...\n"
   ]
  },
  {
   "cell_type": "code",
   "execution_count": null,
   "id": "9ee0faa6",
   "metadata": {
    "deletable": false,
    "editable": false
   },
   "outputs": [],
   "source": [
    "grader.check(\"q4_6\")"
   ]
  },
  {
   "cell_type": "markdown",
   "id": "91f16669",
   "metadata": {},
   "source": [
    "**Question 4.7:** Create a subset of your dataframe called `single_family` containing only the rows where the `homeType` is `SINGLE_FAMILY`. Then make a joint plot showing the `rentZestimate` on the x-axis and the `price` on the `y-axis`. Map the `beds` variable to color. Comment on what you observe. **(5 Points)**"
   ]
  },
  {
   "cell_type": "code",
   "execution_count": null,
   "id": "e52bea28",
   "metadata": {
    "execution": {
     "iopub.execute_input": "2022-01-21T06:53:52.800261Z",
     "iopub.status.busy": "2022-01-21T06:53:52.799643Z",
     "iopub.status.idle": "2022-01-21T06:53:52.803489Z",
     "shell.execute_reply": "2022-01-21T06:53:52.802912Z"
    },
    "tags": []
   },
   "outputs": [],
   "source": [
    "single_family = ...\n",
    "\n",
    "single_fam_jointplot = ..."
   ]
  },
  {
   "cell_type": "code",
   "execution_count": null,
   "id": "f9699676",
   "metadata": {
    "deletable": false,
    "editable": false
   },
   "outputs": [],
   "source": [
    "grader.check(\"q4_7\")"
   ]
  },
  {
   "cell_type": "markdown",
   "id": "d13bc490",
   "metadata": {},
   "source": [
    "<!-- BEGIN QUESTION -->\n",
    "\n",
    "**Question 4.8:** Based on the preliminary exploration you have done. Create a research question about this data set and then make a plot that could help you uncover information about your question. For example, one possible question is how does home size vary by location? **(5 Points)**"
   ]
  },
  {
   "cell_type": "markdown",
   "id": "e00376fb",
   "metadata": {},
   "source": [
    "_Type your answer here, replacing this text._"
   ]
  },
  {
   "cell_type": "code",
   "execution_count": null,
   "id": "18947d8b",
   "metadata": {},
   "outputs": [],
   "source": []
  },
  {
   "cell_type": "markdown",
   "id": "04528cdd",
   "metadata": {},
   "source": [
    "<!-- END QUESTION -->\n",
    "\n"
   ]
  },
  {
   "cell_type": "markdown",
   "id": "40b899c7",
   "metadata": {
    "deletable": false,
    "editable": false
   },
   "source": [
    "## Submission\n",
    "\n",
    "Make sure you have run all cells in your notebook in order before running the cell below, so that all images/graphs appear in the output. The cell below will generate a zip file for you to submit. **Please save before exporting!**"
   ]
  },
  {
   "cell_type": "code",
   "execution_count": null,
   "id": "507d216f",
   "metadata": {
    "deletable": false,
    "editable": false
   },
   "outputs": [],
   "source": [
    "# Save your notebook first, then run this cell to export your submission.\n",
    "grader.export(pdf=False, run_tests=True)"
   ]
  },
  {
   "cell_type": "markdown",
   "id": "e565e774",
   "metadata": {},
   "source": [
    " "
   ]
  }
 ],
 "metadata": {
  "kernelspec": {
   "display_name": "Python 3 (ipykernel)",
   "language": "python",
   "name": "python3"
  },
  "language_info": {
   "codemirror_mode": {
    "name": "ipython",
    "version": 3
   },
   "file_extension": ".py",
   "mimetype": "text/x-python",
   "name": "python",
   "nbconvert_exporter": "python",
   "pygments_lexer": "ipython3",
   "version": "3.11.4"
  },
  "otter": {
   "OK_FORMAT": true,
   "tests": {
    "q0": {
     "name": "q0",
     "points": [],
     "suites": [
      {
       "cases": [],
       "scored": true,
       "setup": "",
       "teardown": "",
       "type": "doctest"
      }
     ]
    },
    "q1_1": {
     "name": "q1_1",
     "points": [
      0
     ],
     "suites": [
      {
       "cases": [
        {
         "code": ">>> api_key != ...\nTrue",
         "hidden": false,
         "locked": false
        }
       ],
       "scored": true,
       "setup": "",
       "teardown": "",
       "type": "doctest"
      }
     ]
    },
    "q1_2": {
     "name": "q1_2",
     "points": [
      0
     ],
     "suites": [
      {
       "cases": [
        {
         "code": ">>> zillow_url != ...\nTrue",
         "hidden": false,
         "locked": false
        }
       ],
       "scored": true,
       "setup": "",
       "teardown": "",
       "type": "doctest"
      }
     ]
    },
    "q1_3": {
     "name": "q1_3",
     "points": [
      0
     ],
     "suites": [
      {
       "cases": [
        {
         "code": ">>> listing_response != ...\n",
         "hidden": false,
         "locked": false
        }
       ],
       "scored": true,
       "setup": "",
       "teardown": "",
       "type": "doctest"
      }
     ]
    },
    "q2_1": {
     "name": "q2_1",
     "points": [
      0
     ],
     "suites": [
      {
       "cases": [
        {
         "code": ">>> listing_response_type != ...\n",
         "hidden": false,
         "locked": false
        }
       ],
       "scored": true,
       "setup": "",
       "teardown": "",
       "type": "doctest"
      }
     ]
    },
    "q2_2": {
     "name": "q2_2",
     "points": [
      0
     ],
     "suites": [
      {
       "cases": [
        {
         "code": ">>> payload != ...\n",
         "hidden": false,
         "locked": false
        }
       ],
       "scored": true,
       "setup": "",
       "teardown": "",
       "type": "doctest"
      }
     ]
    },
    "q2_3": {
     "name": "q2_3",
     "points": [
      0
     ],
     "suites": [
      {
       "cases": [
        {
         "code": ">>> response_data != ...\n",
         "hidden": false,
         "locked": false
        }
       ],
       "scored": true,
       "setup": "",
       "teardown": "",
       "type": "doctest"
      }
     ]
    },
    "q2_4": {
     "name": "q2_4",
     "points": [
      0
     ],
     "suites": [
      {
       "cases": [
        {
         "code": ">>> (humboldt_df == ...).sum().sum()\n",
         "hidden": false,
         "locked": false
        }
       ],
       "scored": true,
       "setup": "",
       "teardown": "",
       "type": "doctest"
      }
     ]
    },
    "q2_5": {
     "name": "q2_5",
     "points": [
      0
     ],
     "suites": [
      {
       "cases": [
        {
         "code": ">>> num_rows != ... and num_cols != ...\n",
         "hidden": false,
         "locked": false
        }
       ],
       "scored": true,
       "setup": "",
       "teardown": "",
       "type": "doctest"
      }
     ]
    },
    "q2_7": {
     "name": "q2_7",
     "points": [
      0
     ],
     "suites": [
      {
       "cases": [
        {
         "code": ">>> (humboldt_df_copy == ...).sum().sum()\n",
         "hidden": false,
         "locked": false
        }
       ],
       "scored": true,
       "setup": "",
       "teardown": "",
       "type": "doctest"
      }
     ]
    },
    "q2_8": {
     "name": "q2_8",
     "points": [
      0
     ],
     "suites": [
      {
       "cases": [
        {
         "code": ">>> null_vals_heat != ... \n",
         "hidden": false,
         "locked": false
        }
       ],
       "scored": true,
       "setup": "",
       "teardown": "",
       "type": "doctest"
      }
     ]
    },
    "q3_1": {
     "name": "q3_1",
     "points": [
      0
     ],
     "suites": [
      {
       "cases": [
        {
         "code": ">>> (humboldt_df == ...).sum().sum()\n",
         "hidden": false,
         "locked": false
        }
       ],
       "scored": true,
       "setup": "",
       "teardown": "",
       "type": "doctest"
      }
     ]
    },
    "q3_2": {
     "name": "q3_2",
     "points": [
      0
     ],
     "suites": [
      {
       "cases": [
        {
         "code": ">>> price_type != ...\n",
         "hidden": false,
         "locked": false
        }
       ],
       "scored": true,
       "setup": "",
       "teardown": "",
       "type": "doctest"
      }
     ]
    },
    "q3_3": {
     "name": "q3_3",
     "points": [
      0
     ],
     "suites": [
      {
       "cases": [
        {
         "code": ">>> type(humboldt_df.price[0]) is type(np.ones(2, dtype = 'int')[0])\n",
         "hidden": false,
         "locked": false
        }
       ],
       "scored": true,
       "setup": "",
       "teardown": "",
       "type": "doctest"
      }
     ]
    },
    "q3_4": {
     "name": "q3_4",
     "points": [
      0
     ],
     "suites": [
      {
       "cases": [
        {
         "code": ">>> 'lat' in humboldt_df.columns\n",
         "hidden": false,
         "locked": false
        }
       ],
       "scored": true,
       "setup": "",
       "teardown": "",
       "type": "doctest"
      }
     ]
    },
    "q3_5": {
     "name": "q3_5",
     "points": [
      0
     ],
     "suites": [
      {
       "cases": [
        {
         "code": ">>> 'city' in humboldt_df.columns\n",
         "hidden": false,
         "locked": false
        }
       ],
       "scored": true,
       "setup": "",
       "teardown": "",
       "type": "doctest"
      }
     ]
    },
    "q3_6": {
     "name": "q3_6",
     "points": [
      0
     ],
     "suites": [
      {
       "cases": [
        {
         "code": ">>> 'homeType' in humboldt_df.columns\n",
         "hidden": false,
         "locked": false
        }
       ],
       "scored": true,
       "setup": "",
       "teardown": "",
       "type": "doctest"
      }
     ]
    },
    "q4_1": {
     "name": "q4_1",
     "points": [
      0
     ],
     "suites": [
      {
       "cases": [
        {
         "code": ">>> city_counts != ...\n",
         "hidden": false,
         "locked": false
        }
       ],
       "scored": true,
       "setup": "",
       "teardown": "",
       "type": "doctest"
      }
     ]
    },
    "q4_2": {
     "name": "q4_2",
     "points": [
      0
     ],
     "suites": [
      {
       "cases": [
        {
         "code": ">>> city_prices != ...\n",
         "hidden": false,
         "locked": false
        }
       ],
       "scored": true,
       "setup": "",
       "teardown": "",
       "type": "doctest"
      }
     ]
    },
    "q4_3": {
     "name": "q4_3",
     "points": [
      0
     ],
     "suites": [
      {
       "cases": [
        {
         "code": ">>> home_type_counts != ...\n",
         "hidden": false,
         "locked": false
        }
       ],
       "scored": true,
       "setup": "",
       "teardown": "",
       "type": "doctest"
      }
     ]
    },
    "q4_4": {
     "name": "q4_4",
     "points": [
      0
     ],
     "suites": [
      {
       "cases": [
        {
         "code": ">>> home_type_counts != ...\n",
         "hidden": false,
         "locked": false
        }
       ],
       "scored": true,
       "setup": "",
       "teardown": "",
       "type": "doctest"
      }
     ]
    },
    "q4_5": {
     "name": "q4_5",
     "points": [
      0
     ],
     "suites": [
      {
       "cases": [
        {
         "code": ">>> home_type_prices != ...\n",
         "hidden": false,
         "locked": false
        }
       ],
       "scored": true,
       "setup": "",
       "teardown": "",
       "type": "doctest"
      }
     ]
    },
    "q4_6": {
     "name": "q4_6",
     "points": [
      0
     ],
     "suites": [
      {
       "cases": [
        {
         "code": ">>> boxplots_fig != ...\n",
         "hidden": false,
         "locked": false
        }
       ],
       "scored": true,
       "setup": "",
       "teardown": "",
       "type": "doctest"
      }
     ]
    },
    "q4_7": {
     "name": "q4_7",
     "points": [
      0
     ],
     "suites": [
      {
       "cases": [
        {
         "code": ">>> single_fam_jointplot != ...\n",
         "hidden": false,
         "locked": false
        }
       ],
       "scored": true,
       "setup": "",
       "teardown": "",
       "type": "doctest"
      }
     ]
    }
   }
  }
 },
 "nbformat": 4,
 "nbformat_minor": 5
}
