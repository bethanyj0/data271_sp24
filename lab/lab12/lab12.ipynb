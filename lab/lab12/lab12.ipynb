{
 "cells": [
  {
   "cell_type": "code",
   "execution_count": null,
   "id": "59ce9772",
   "metadata": {
    "deletable": false,
    "editable": false
   },
   "outputs": [],
   "source": [
    "# Initialize Otter\n",
    "import otter\n",
    "grader = otter.Notebook(\"lab12.ipynb\")"
   ]
  },
  {
   "cell_type": "markdown",
   "id": "56ae1014",
   "metadata": {},
   "source": [
    "# Lab 12: Missing Data\n",
    "\n",
    "Welcome to Lab 12 of Data Wrangling and Visualization!\n",
    "\n",
    "## Overview\n",
    "Missing data is a huge problem in data science. Having a fully complete dataset is quite rare. Many times, complete datasets are not the raw form of data. \n",
    "\n",
    "There are three main types of missing data:\n",
    "- Missing completely at random (MCAR)\n",
    "- Missing at random (MAR)\n",
    "- Missing not at random (MNAR)\n",
    "\n",
    "The methods we use to handle missing data depend on the type of missing data. Typically MCAR data is easiest to handle. Since the probability of being missing is equal for all observations, we can safely remove missing observations without accidentally erasing important trends in other variables. MAR data occurs when the probability that one variable is missing depends on its value or another variable in the dataset. We handle some types of MAR data by filling in the missing values. MNAR data is typically the most difficult form of missing data to work with. You will learn about techniques for MNAR data in future classes.\n",
    "\n",
    "Some common techniques for handling missing data include\n",
    "- Drop missing observations \n",
    "- Impute data\n",
    "    - Mean\n",
    "    - Median\n",
    "    - Mode\n",
    "    - Forward fill (best for time series)\n",
    "    - Backward fill (best for time series)\n",
    "    - Interpolate (best for time series)\n",
    "    \n",
    "## In today's lab, we will\n",
    "- work on understanding types of missing data\n",
    "- handle missing values using a variety of techniques\n",
    "- create an interactive visualization (for fun)"
   ]
  },
  {
   "cell_type": "code",
   "execution_count": null,
   "id": "c0f3e4c1",
   "metadata": {},
   "outputs": [],
   "source": [
    "import pandas as pd\n",
    "import numpy as np"
   ]
  },
  {
   "cell_type": "markdown",
   "id": "b59280f6",
   "metadata": {},
   "source": [
    "**Question 1.1:** Import the `temp_weather_data.csv` file. "
   ]
  },
  {
   "cell_type": "code",
   "execution_count": null,
   "id": "978a6d40",
   "metadata": {
    "tags": []
   },
   "outputs": [],
   "source": [
    "# Import data\n",
    "weather = ...\n",
    "weather"
   ]
  },
  {
   "cell_type": "code",
   "execution_count": null,
   "id": "d64e82e6",
   "metadata": {
    "deletable": false,
    "editable": false
   },
   "outputs": [],
   "source": [
    "grader.check(\"q1_1\")"
   ]
  },
  {
   "cell_type": "markdown",
   "id": "2a88bec8",
   "metadata": {},
   "source": [
    "<!-- BEGIN QUESTION -->\n",
    "\n",
    "**Question 1.2:** Check on the weather dataframe info to look at datatypes and the number of null values in each column. "
   ]
  },
  {
   "cell_type": "code",
   "execution_count": null,
   "id": "ba9184f4",
   "metadata": {
    "tags": []
   },
   "outputs": [],
   "source": [
    "..."
   ]
  },
  {
   "cell_type": "markdown",
   "id": "14555e47",
   "metadata": {},
   "source": [
    "<!-- END QUESTION -->\n",
    "\n",
    "**Question 1.3:** If there are any null values in the dataset that do not show up as a NaN, convert them to `np.nan`. Cast all numeric columns to type float."
   ]
  },
  {
   "cell_type": "code",
   "execution_count": null,
   "id": "e5f47751",
   "metadata": {
    "tags": []
   },
   "outputs": [],
   "source": [
    "weather"
   ]
  },
  {
   "cell_type": "code",
   "execution_count": null,
   "id": "462b009e",
   "metadata": {
    "deletable": false,
    "editable": false
   },
   "outputs": [],
   "source": [
    "grader.check(\"q1_3\")"
   ]
  },
  {
   "cell_type": "markdown",
   "id": "d81c88b3",
   "metadata": {},
   "source": [
    "**Question 1.4:** Create several visualizations to find any patterns in null values. After you've looked at your visualizations, determine which column is most likely to be MCAR.\n",
    "\n",
    "1. `temperature`\n",
    "2. `humidity`\n",
    "3. `rainfall`\n",
    "4. `air_quality`\n",
    "\n",
    "Enter 1,2,3, or 4. "
   ]
  },
  {
   "cell_type": "code",
   "execution_count": null,
   "id": "c420ee52",
   "metadata": {
    "tags": []
   },
   "outputs": [],
   "source": [
    "# Create visualizations here"
   ]
  },
  {
   "cell_type": "code",
   "execution_count": null,
   "id": "5dd01a89",
   "metadata": {
    "tags": []
   },
   "outputs": [],
   "source": [
    "most_likely_mcar = ...\n",
    "most_likely_mcar"
   ]
  },
  {
   "cell_type": "code",
   "execution_count": null,
   "id": "e96a2faa",
   "metadata": {
    "deletable": false,
    "editable": false
   },
   "outputs": [],
   "source": [
    "grader.check(\"q1_4\")"
   ]
  },
  {
   "cell_type": "markdown",
   "id": "b09711c9",
   "metadata": {},
   "source": [
    "**Question 1.5:** Drop any rows from the dataframe that has a null value in the `humidity` column."
   ]
  },
  {
   "cell_type": "code",
   "execution_count": null,
   "id": "0e48f9be",
   "metadata": {
    "tags": []
   },
   "outputs": [],
   "source": [
    "...\n",
    "weather"
   ]
  },
  {
   "cell_type": "code",
   "execution_count": null,
   "id": "4c593ad6",
   "metadata": {
    "deletable": false,
    "editable": false
   },
   "outputs": [],
   "source": [
    "grader.check(\"q1_5\")"
   ]
  },
  {
   "cell_type": "markdown",
   "id": "aa5a0e51",
   "metadata": {},
   "source": [
    "**Question 1.6:** Use linear interpolation to fill in the missing values in the `temperature` column. \n",
    "\n",
    "*NOTE:* First create a copy of the weather dataframe called `weather_filled`. Then fill in the missing values."
   ]
  },
  {
   "cell_type": "code",
   "execution_count": null,
   "id": "2d21663f",
   "metadata": {
    "tags": []
   },
   "outputs": [],
   "source": [
    "weather_filled = ...\n",
    "weather_filled"
   ]
  },
  {
   "cell_type": "code",
   "execution_count": null,
   "id": "ce8f2a92",
   "metadata": {
    "deletable": false,
    "editable": false
   },
   "outputs": [],
   "source": [
    "grader.check(\"q1_6\")"
   ]
  },
  {
   "cell_type": "markdown",
   "id": "77abdd1b",
   "metadata": {},
   "source": [
    "**Question 1.7:** Use the backward fill method to fill in the missing values in the `rainfall` column."
   ]
  },
  {
   "cell_type": "code",
   "execution_count": null,
   "id": "911ecfb2",
   "metadata": {
    "tags": []
   },
   "outputs": [],
   "source": [
    "...\n",
    "weather_filled"
   ]
  },
  {
   "cell_type": "code",
   "execution_count": null,
   "id": "c2d4e8d6",
   "metadata": {
    "deletable": false,
    "editable": false
   },
   "outputs": [],
   "source": [
    "grader.check(\"q1_7\")"
   ]
  },
  {
   "cell_type": "markdown",
   "id": "37fdd6b8",
   "metadata": {},
   "source": [
    "### 2. Interactive plot"
   ]
  },
  {
   "cell_type": "markdown",
   "id": "52106a3a",
   "metadata": {},
   "source": [
    "<!-- BEGIN QUESTION -->\n",
    "\n",
    "**Question 2.1:** Create an interactive plot which shows either `temperature` or `rainfall` through time. Create a dropdown menu to allow a user to select temperature or rainfall."
   ]
  },
  {
   "cell_type": "code",
   "execution_count": null,
   "id": "45350fa5",
   "metadata": {
    "tags": []
   },
   "outputs": [],
   "source": [
    "# Your plot here"
   ]
  },
  {
   "cell_type": "markdown",
   "id": "31829ff8",
   "metadata": {},
   "source": [
    "<!-- END QUESTION -->\n",
    "\n",
    "## You're done! \n",
    "\n",
    "Yay! Congratulations for making it through your final DATA 271 lab! At the beginning of the semester, you were like young Gus.\n",
    "<img src=\"gus_smol.JPG\" alt=\"drawing\" width=\"500\"/>\n",
    "\n",
    "Now you're like fully grown Gus with all your data wrangling and visualization knowledge!\n",
    "<img src=\"gus_another_loaf_of_bread.JPG\" alt=\"drawing\" width=\"500\"/>\n",
    "\n",
    "Run the cell below and submit to Canvas. "
   ]
  },
  {
   "cell_type": "markdown",
   "id": "88828795",
   "metadata": {
    "deletable": false,
    "editable": false
   },
   "source": [
    "## Submission\n",
    "\n",
    "Make sure you have run all cells in your notebook in order before running the cell below, so that all images/graphs appear in the output. The cell below will generate a zip file for you to submit. **Please save before exporting!**"
   ]
  },
  {
   "cell_type": "code",
   "execution_count": null,
   "id": "debc96d8",
   "metadata": {
    "deletable": false,
    "editable": false
   },
   "outputs": [],
   "source": [
    "# Save your notebook first, then run this cell to export your submission.\n",
    "grader.export(pdf=False, run_tests=True)"
   ]
  },
  {
   "cell_type": "markdown",
   "id": "24258def",
   "metadata": {},
   "source": [
    " "
   ]
  }
 ],
 "metadata": {
  "kernelspec": {
   "display_name": "Python 3 (ipykernel)",
   "language": "python",
   "name": "python3"
  },
  "language_info": {
   "codemirror_mode": {
    "name": "ipython",
    "version": 3
   },
   "file_extension": ".py",
   "mimetype": "text/x-python",
   "name": "python",
   "nbconvert_exporter": "python",
   "pygments_lexer": "ipython3",
   "version": "3.11.4"
  },
  "otter": {
   "OK_FORMAT": true,
   "tests": {
    "q1_1": {
     "name": "q1_1",
     "points": null,
     "suites": [
      {
       "cases": [
        {
         "code": ">>> (weather == ...).sum().sum()\n0",
         "hidden": false,
         "locked": false
        },
        {
         "code": ">>> weather.shape[0]\n237",
         "hidden": false,
         "locked": false
        },
        {
         "code": ">>> weather.shape[1]\n8",
         "hidden": false,
         "locked": false
        }
       ],
       "scored": true,
       "setup": "",
       "teardown": "",
       "type": "doctest"
      }
     ]
    },
    "q1_3": {
     "name": "q1_3",
     "points": null,
     "suites": [
      {
       "cases": [
        {
         "code": ">>> weather.isna().sum()['temperature']\n54",
         "hidden": false,
         "locked": false
        },
        {
         "code": ">>> weather.isna().sum()['humidity']\n10",
         "hidden": false,
         "locked": false
        },
        {
         "code": ">>> weather.isna().sum()['rainfall']\n19",
         "hidden": false,
         "locked": false
        },
        {
         "code": ">>> weather.isna().sum()['air_quality']\n0",
         "hidden": false,
         "locked": false
        }
       ],
       "scored": true,
       "setup": "",
       "teardown": "",
       "type": "doctest"
      }
     ]
    },
    "q1_4": {
     "name": "q1_4",
     "points": null,
     "suites": [
      {
       "cases": [
        {
         "code": ">>> most_likely_mcar\n2",
         "hidden": false,
         "locked": false
        }
       ],
       "scored": true,
       "setup": "",
       "teardown": "",
       "type": "doctest"
      }
     ]
    },
    "q1_5": {
     "name": "q1_5",
     "points": null,
     "suites": [
      {
       "cases": [
        {
         "code": ">>> weather.shape[0]\n227",
         "hidden": false,
         "locked": false
        },
        {
         "code": ">>> weather.shape[1]\n8",
         "hidden": false,
         "locked": false
        }
       ],
       "scored": true,
       "setup": "",
       "teardown": "",
       "type": "doctest"
      }
     ]
    },
    "q1_6": {
     "name": "q1_6",
     "points": null,
     "suites": [
      {
       "cases": [
        {
         "code": ">>> weather_filled.temperature.isna().sum()\n0",
         "hidden": false,
         "locked": false
        }
       ],
       "scored": true,
       "setup": "",
       "teardown": "",
       "type": "doctest"
      }
     ]
    },
    "q1_7": {
     "name": "q1_7",
     "points": null,
     "suites": [
      {
       "cases": [
        {
         "code": ">>> weather_filled.rainfall.isna().sum()\n0",
         "hidden": false,
         "locked": false
        }
       ],
       "scored": true,
       "setup": "",
       "teardown": "",
       "type": "doctest"
      }
     ]
    }
   }
  }
 },
 "nbformat": 4,
 "nbformat_minor": 5
}
