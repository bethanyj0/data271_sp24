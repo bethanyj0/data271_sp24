{
 "cells": [
  {
   "cell_type": "code",
   "execution_count": null,
   "id": "e8923f33",
   "metadata": {
    "deletable": false,
    "editable": false
   },
   "outputs": [],
   "source": [
    "# Initialize Otter\n",
    "import otter\n",
    "grader = otter.Notebook(\"lab10.ipynb\")"
   ]
  },
  {
   "cell_type": "markdown",
   "id": "bcb87289",
   "metadata": {},
   "source": [
    "# Lab 10: Web Scraping and Manipulating Data\n",
    "\n",
    "Welcome to Lab 10 of Data Wrangling and Visualization!\n",
    "\n",
    "## Overview\n",
    "The web provides a rich source of data, so we often want to work with that information programmatically in order to make sense of it. Sometimes, that data is provided to us by website creators via csv files or through an API (Application Programming Interface). Other times, we need to collect text from the web ourselves.\n",
    "\n",
    "It is easy to pull HTML from a website but more difficult to find the information we want from HTML.  Parsing the HTML for targeted information and then storing that information in a structured format will be the focus of this activity. Once we have our data in a structured format, we will practice cleaning and reshaping the data.\n",
    "\n",
    "\n",
    "## In today's lab, we will\n",
    "- Become familiar with the structure of HTML and CSS by inspecting source code\n",
    "- Use the Requests and Beautiful Soup libraries to acquire and parse data from websites\n",
    "- Work through the challenges of web scraping (i.e. turning messy, unstructured data into workable form)\n",
    "- Use Pandas methods to clean, manipulate, and reshape data for a brief EDA"
   ]
  },
  {
   "cell_type": "markdown",
   "id": "6a1cd7f1",
   "metadata": {},
   "source": [
    "This activity will make use of the Requests and Beautiful Soup Python modules.\n",
    "Documentation can be found here: \n",
    "- https://docs.python-requests.org/en/latest/\n",
    "- https://www.crummy.com/software/BeautifulSoup/"
   ]
  },
  {
   "cell_type": "markdown",
   "id": "2833f0f0",
   "metadata": {},
   "source": [
    "### Import packages\n"
   ]
  },
  {
   "cell_type": "code",
   "execution_count": null,
   "id": "95c259a2",
   "metadata": {},
   "outputs": [],
   "source": [
    "import pandas as pd\n",
    "import requests\n",
    "from bs4 import BeautifulSoup\n",
    "import warnings\n",
    "warnings.filterwarnings(\"ignore\")\n",
    "import seaborn as sns\n",
    "sns.set_style('darkgrid')\n",
    "import matplotlib.pyplot as plt\n",
    "import numpy as np"
   ]
  },
  {
   "cell_type": "markdown",
   "id": "910a342c",
   "metadata": {},
   "source": [
    "### 1. Scrape and Beautify Cal Poly Humboldt Data"
   ]
  },
  {
   "cell_type": "markdown",
   "id": "89f88201",
   "metadata": {},
   "source": [
    "**Question 1.1:** Go to https://pine.humboldt.edu/anstud/cgi-bin/filter.pl?relevant=ft1yr_retention.out. Read through the webpage and inspect its source code. What information does this page provide? Once you have a feel for what is on the webpage, import its contents with the requests module."
   ]
  },
  {
   "cell_type": "code",
   "execution_count": null,
   "id": "af52c11a",
   "metadata": {
    "tags": []
   },
   "outputs": [],
   "source": [
    "# Import the data\n",
    "page = ..."
   ]
  },
  {
   "cell_type": "code",
   "execution_count": null,
   "id": "71f72f9a",
   "metadata": {
    "deletable": false,
    "editable": false
   },
   "outputs": [],
   "source": [
    "grader.check(\"q1_1\")"
   ]
  },
  {
   "cell_type": "markdown",
   "id": "7c416c9e",
   "metadata": {},
   "source": [
    "**Question 1.2:** Inspect the text of the data you just imported. "
   ]
  },
  {
   "cell_type": "code",
   "execution_count": null,
   "id": "a7207850",
   "metadata": {
    "tags": []
   },
   "outputs": [],
   "source": [
    "# inspect the text\n",
    "page_text = ...\n",
    "page_text"
   ]
  },
  {
   "cell_type": "code",
   "execution_count": null,
   "id": "1e0f47fe",
   "metadata": {
    "deletable": false,
    "editable": false
   },
   "outputs": [],
   "source": [
    "grader.check(\"q1_2\")"
   ]
  },
  {
   "cell_type": "markdown",
   "id": "1615a585",
   "metadata": {},
   "source": [
    "**Question 1.3:** Create a Beautiful Soup object from `page_text`. "
   ]
  },
  {
   "cell_type": "code",
   "execution_count": null,
   "id": "e7f9321f",
   "metadata": {
    "tags": []
   },
   "outputs": [],
   "source": [
    "# Create soup object\n",
    "soup = ...\n",
    "soup"
   ]
  },
  {
   "cell_type": "code",
   "execution_count": null,
   "id": "f9f64caf",
   "metadata": {
    "deletable": false,
    "editable": false
   },
   "outputs": [],
   "source": [
    "grader.check(\"q1_3\")"
   ]
  },
  {
   "cell_type": "markdown",
   "id": "4e22d725",
   "metadata": {},
   "source": [
    "<!-- BEGIN QUESTION -->\n",
    "\n",
    "**Question 1.4:** Use the `prettify()` method to turn the Beautiful Soup parse tree into a nicely formatted string with each HTML tag on its own line. Take a look through it and take note of any tags or attributes you are unfamiliear with. Look up any tags that aren't familiar."
   ]
  },
  {
   "cell_type": "code",
   "execution_count": null,
   "id": "636ae93e",
   "metadata": {
    "tags": []
   },
   "outputs": [],
   "source": [
    "# Print pretty data"
   ]
  },
  {
   "cell_type": "markdown",
   "id": "ef88625f",
   "metadata": {},
   "source": [
    "<!-- END QUESTION -->\n",
    "\n",
    "### 2. Parse and clean the data"
   ]
  },
  {
   "cell_type": "markdown",
   "id": "44db438b",
   "metadata": {},
   "source": [
    "**Question 2.1:** Use a BeautifulSoup method to determine how many tables are on the webpage. "
   ]
  },
  {
   "cell_type": "code",
   "execution_count": null,
   "id": "2c6ead43",
   "metadata": {
    "tags": []
   },
   "outputs": [],
   "source": [
    "num_tables = ...\n",
    "num_tables"
   ]
  },
  {
   "cell_type": "code",
   "execution_count": null,
   "id": "4ea543b0",
   "metadata": {
    "deletable": false,
    "editable": false
   },
   "outputs": [],
   "source": [
    "grader.check(\"q2_1\")"
   ]
  },
  {
   "cell_type": "markdown",
   "id": "91908c93",
   "metadata": {},
   "source": [
    "**Question 2.2:** Access the second to last table and put the contents in `table1_code`. Inspect it, and then give a brief description of what the table contains. "
   ]
  },
  {
   "cell_type": "markdown",
   "id": "05752f6e",
   "metadata": {},
   "source": [
    "_Type your answer here, replacing this text._"
   ]
  },
  {
   "cell_type": "code",
   "execution_count": null,
   "id": "dc32bb23",
   "metadata": {
    "tags": []
   },
   "outputs": [],
   "source": [
    "table1_code = ...\n",
    "table1_code"
   ]
  },
  {
   "cell_type": "code",
   "execution_count": null,
   "id": "80739ed4",
   "metadata": {
    "deletable": false,
    "editable": false
   },
   "outputs": [],
   "source": [
    "grader.check(\"q2_2\")"
   ]
  },
  {
   "cell_type": "markdown",
   "id": "86aed021",
   "metadata": {},
   "source": [
    "**Question 2.3:** Put the contents from the second to last table (`table1_code`) into Pandas Data Frame.\n",
    "\n",
    "*HINT 1:* You will probably find it helpful to first create a nested list of the data. Each inner list should contain the contents of one row in the table. The outer list should contain all the rows. Use this nested list to create the Pandas DataFrame.\n",
    "\n",
    "*HINT 2:* Notice that the first two rows in the table have headers (a slightly different structure from the rest of the table). You might find it helpful to first create the data frame to contain the body of the table. Then create the column names with the headers afterward."
   ]
  },
  {
   "cell_type": "code",
   "execution_count": null,
   "id": "ee2733e0",
   "metadata": {
    "tags": []
   },
   "outputs": [],
   "source": [
    "# Create a nested list of data\n",
    "nested_list = ...\n",
    "\n",
    "\n",
    "# Put the data in a Pandas dataframe and rename columns as needed\n",
    "table1_df = ...\n",
    "table1_df.columns = ...\n",
    "table1_df"
   ]
  },
  {
   "cell_type": "code",
   "execution_count": null,
   "id": "34bfa5e8",
   "metadata": {
    "deletable": false,
    "editable": false
   },
   "outputs": [],
   "source": [
    "grader.check(\"q2_3\")"
   ]
  },
  {
   "cell_type": "markdown",
   "id": "9cebebdd",
   "metadata": {},
   "source": [
    "**Question 2.4:** Notice that even rows contain numbers and odd rows contain percents in `table1_df1`. Let's separate this into two Pandas data frames. One should contain only numbers, one should contain percents. \n",
    "\n",
    "*NOTE:* Make sure that both tables have data in the `Major Program` column."
   ]
  },
  {
   "cell_type": "code",
   "execution_count": null,
   "id": "22c5625a",
   "metadata": {
    "tags": []
   },
   "outputs": [],
   "source": [
    "# Create numbers data frame\n",
    "table1_nums = ...\n",
    "table1_nums"
   ]
  },
  {
   "cell_type": "code",
   "execution_count": null,
   "id": "7e672927",
   "metadata": {
    "tags": []
   },
   "outputs": [],
   "source": [
    "# Create percents data frame\n",
    "table1_percents = ...\n",
    "table1_percents"
   ]
  },
  {
   "cell_type": "code",
   "execution_count": null,
   "id": "8c342fe3",
   "metadata": {
    "deletable": false,
    "editable": false
   },
   "outputs": [],
   "source": [
    "grader.check(\"q2_4\")"
   ]
  },
  {
   "cell_type": "markdown",
   "id": "dc7b7a90",
   "metadata": {},
   "source": [
    "<!-- BEGIN QUESTION -->\n",
    "\n",
    "**Question 2.5:** Check the data types of each column in both tables from the previous question. "
   ]
  },
  {
   "cell_type": "code",
   "execution_count": null,
   "id": "4a2c1b07",
   "metadata": {
    "tags": []
   },
   "outputs": [],
   "source": [
    "# check nums dtypes"
   ]
  },
  {
   "cell_type": "code",
   "execution_count": null,
   "id": "e3152e9a",
   "metadata": {
    "tags": []
   },
   "outputs": [],
   "source": [
    "# check percents dtypes"
   ]
  },
  {
   "cell_type": "markdown",
   "id": "e6c6b7bc",
   "metadata": {},
   "source": [
    "<!-- END QUESTION -->\n",
    "\n",
    "**Question 2.6:** Cast the datatypes in your tables appropriately. In other words, if a column contains numbers, cast it to an appropriate numeric data type.\n",
    "\n",
    "*NOTE:* The percents in the `table1_percents` DataFrame should be floats."
   ]
  },
  {
   "cell_type": "code",
   "execution_count": null,
   "id": "260e0ba3",
   "metadata": {
    "tags": []
   },
   "outputs": [],
   "source": [
    "# Cast datatypes in nums table\n",
    "    \n",
    "table1_nums.dtypes"
   ]
  },
  {
   "cell_type": "code",
   "execution_count": null,
   "id": "f5d7533d",
   "metadata": {
    "tags": []
   },
   "outputs": [],
   "source": [
    "# Cast datatypes in percents table\n",
    "\n",
    "table1_percents.dtypes"
   ]
  },
  {
   "cell_type": "code",
   "execution_count": null,
   "id": "00d02543",
   "metadata": {
    "deletable": false,
    "editable": false
   },
   "outputs": [],
   "source": [
    "grader.check(\"q2_6\")"
   ]
  },
  {
   "cell_type": "markdown",
   "id": "ed955e5b",
   "metadata": {},
   "source": [
    "## 3. Visualize"
   ]
  },
  {
   "cell_type": "markdown",
   "id": "7fe3b7b4",
   "metadata": {},
   "source": [
    "**Question 3.1:** Visualize the relationship between the 1st Year retention rates (percents) in Fall 13 and the 1st Year retention rates (percents) in Fall 22. Make sure your visualization has a title and your axes are labeled. "
   ]
  },
  {
   "cell_type": "code",
   "execution_count": null,
   "id": "99b02e45",
   "metadata": {
    "tags": []
   },
   "outputs": [],
   "source": [
    "scatter_13_vs_22 = ...\n",
    "plt.show()"
   ]
  },
  {
   "cell_type": "code",
   "execution_count": null,
   "id": "22cb1276",
   "metadata": {
    "deletable": false,
    "editable": false
   },
   "outputs": [],
   "source": [
    "grader.check(\"q3_1\")"
   ]
  },
  {
   "cell_type": "markdown",
   "id": "553aac4f",
   "metadata": {},
   "source": [
    "<!-- BEGIN QUESTION -->\n",
    "\n",
    "**Question 3.2:** Visualize the trend in 1st Year retention rates (percents) over time for Biology. On the same axes plot the trend for English (in a different color). Make sure your plot has an informative legend, axes labels, and title. \n",
    "\n",
    "*HINT:* You will probably find it helpful to reshape your `table1_percents` dataframe to create this plot. "
   ]
  },
  {
   "cell_type": "code",
   "execution_count": null,
   "id": "37be86ca",
   "metadata": {
    "tags": []
   },
   "outputs": [],
   "source": [
    "# reshape the data as needed\n"
   ]
  },
  {
   "cell_type": "code",
   "execution_count": null,
   "id": "829c0f18",
   "metadata": {
    "tags": []
   },
   "outputs": [],
   "source": [
    "# plot the trends\n",
    "retention_trends = ...\n",
    "plt.show()"
   ]
  },
  {
   "cell_type": "markdown",
   "id": "ae5c690d",
   "metadata": {},
   "source": [
    "<!-- END QUESTION -->\n",
    "\n",
    "<!-- BEGIN QUESTION -->\n",
    "\n",
    "**Question 3.3:** Create one more data visualization of your choice. This might require reshaping your data. Describe what insights you gain from your visualization."
   ]
  },
  {
   "cell_type": "code",
   "execution_count": null,
   "id": "885a06af",
   "metadata": {
    "tags": []
   },
   "outputs": [],
   "source": [
    "# Visualize"
   ]
  },
  {
   "cell_type": "markdown",
   "id": "411a06d7",
   "metadata": {},
   "source": [
    "<!-- END QUESTION -->\n",
    "\n",
    "## You're done! \n",
    "\n",
    "Congratulations on finishing the lab! Gus is proud of you! Run the cell below and submit to Canvas. \n",
    "\n",
    "<img src=\"gus_big_stretch.JPG\" alt=\"drawing\" width=\"500\"/>"
   ]
  },
  {
   "cell_type": "markdown",
   "id": "badbc3b8",
   "metadata": {
    "deletable": false,
    "editable": false
   },
   "source": [
    "## Submission\n",
    "\n",
    "Make sure you have run all cells in your notebook in order before running the cell below, so that all images/graphs appear in the output. The cell below will generate a zip file for you to submit. **Please save before exporting!**"
   ]
  },
  {
   "cell_type": "code",
   "execution_count": null,
   "id": "70f222e9",
   "metadata": {
    "deletable": false,
    "editable": false
   },
   "outputs": [],
   "source": [
    "# Save your notebook first, then run this cell to export your submission.\n",
    "grader.export(pdf=False, run_tests=True)"
   ]
  },
  {
   "cell_type": "markdown",
   "id": "862f6662",
   "metadata": {},
   "source": [
    " "
   ]
  }
 ],
 "metadata": {
  "kernelspec": {
   "display_name": "Python 3 (ipykernel)",
   "language": "python",
   "name": "python3"
  },
  "language_info": {
   "codemirror_mode": {
    "name": "ipython",
    "version": 3
   },
   "file_extension": ".py",
   "mimetype": "text/x-python",
   "name": "python",
   "nbconvert_exporter": "python",
   "pygments_lexer": "ipython3",
   "version": "3.11.4"
  },
  "otter": {
   "OK_FORMAT": true,
   "tests": {
    "q1_1": {
     "name": "q1_1",
     "points": null,
     "suites": [
      {
       "cases": [
        {
         "code": ">>> page != ...\nTrue",
         "hidden": false,
         "locked": false
        },
        {
         "code": ">>> page.status_code\n200",
         "hidden": false,
         "locked": false
        }
       ],
       "scored": true,
       "setup": "",
       "teardown": "",
       "type": "doctest"
      }
     ]
    },
    "q1_2": {
     "name": "q1_2",
     "points": null,
     "suites": [
      {
       "cases": [
        {
         "code": ">>> page_text != ...\nTrue",
         "hidden": false,
         "locked": false
        },
        {
         "code": ">>> type(page_text) is str\nTrue",
         "hidden": false,
         "locked": false
        }
       ],
       "scored": true,
       "setup": "",
       "teardown": "",
       "type": "doctest"
      }
     ]
    },
    "q1_3": {
     "name": "q1_3",
     "points": null,
     "suites": [
      {
       "cases": [
        {
         "code": ">>> soup != ...\nTrue",
         "hidden": false,
         "locked": false
        },
        {
         "code": ">>> type(soup) is BeautifulSoup\nTrue",
         "hidden": false,
         "locked": false
        }
       ],
       "scored": true,
       "setup": "",
       "teardown": "",
       "type": "doctest"
      }
     ]
    },
    "q2_1": {
     "name": "q2_1",
     "points": null,
     "suites": [
      {
       "cases": [
        {
         "code": ">>> num_tables != ...\nTrue",
         "hidden": false,
         "locked": false
        },
        {
         "code": ">>> num_tables\n16",
         "hidden": false,
         "locked": false
        }
       ],
       "scored": true,
       "setup": "",
       "teardown": "",
       "type": "doctest"
      }
     ]
    },
    "q2_2": {
     "name": "q2_2",
     "points": null,
     "suites": [
      {
       "cases": [
        {
         "code": ">>> table1_code != ...\nTrue",
         "hidden": false,
         "locked": false
        },
        {
         "code": ">>> 'First-Time full-time Undergrads by current Major' in table1_code.find('tr').text\nTrue",
         "hidden": false,
         "locked": false
        }
       ],
       "scored": true,
       "setup": "",
       "teardown": "",
       "type": "doctest"
      }
     ]
    },
    "q2_3": {
     "name": "q2_3",
     "points": null,
     "suites": [
      {
       "cases": [
        {
         "code": ">>> type(table1_df) is pd.DataFrame\nTrue",
         "hidden": false,
         "locked": false
        },
        {
         "code": ">>> sum([i in ['Major Program','Fall 13','Fall 14','Fall 15','Fall 16','Fall 17','Fall 18','Fall 19','Fall 20','Fall 21','Fall 22'] for i in list(table1_df.columns)])\n11",
         "hidden": false,
         "locked": false
        },
        {
         "code": ">>> table1_df.shape[0]\n120",
         "hidden": false,
         "locked": false
        }
       ],
       "scored": true,
       "setup": "",
       "teardown": "",
       "type": "doctest"
      }
     ]
    },
    "q2_4": {
     "name": "q2_4",
     "points": null,
     "suites": [
      {
       "cases": [
        {
         "code": ">>> type(table1_nums) is pd.DataFrame and type(table1_percents) is pd.DataFrame\nTrue",
         "hidden": false,
         "locked": false
        },
        {
         "code": ">>> sum([i in ['Major Program','Fall 13','Fall 14','Fall 15','Fall 16','Fall 17','Fall 18','Fall 19','Fall 20','Fall 21','Fall 22'] for i in list(table1_nums.columns)])\n11",
         "hidden": false,
         "locked": false
        },
        {
         "code": ">>> sum([i in ['Major Program','Fall 13','Fall 14','Fall 15','Fall 16','Fall 17','Fall 18','Fall 19','Fall 20','Fall 21','Fall 22'] for i in list(table1_percents.columns)])\n11",
         "hidden": false,
         "locked": false
        },
        {
         "code": ">>> table1_nums.shape[0]\n60",
         "hidden": false,
         "locked": false
        },
        {
         "code": ">>> \"Art\" in table1_percents['Major Program'].values\nTrue",
         "hidden": false,
         "locked": false
        }
       ],
       "scored": true,
       "setup": "",
       "teardown": "",
       "type": "doctest"
      }
     ]
    },
    "q2_6": {
     "name": "q2_6",
     "points": null,
     "suites": [
      {
       "cases": [
        {
         "code": ">>> np.array(2).dtype\ndtype('int64')",
         "hidden": false,
         "locked": false
        },
        {
         "code": ">>> table1_nums.iloc[:,5].dtype is np.array(2).dtype\nTrue",
         "hidden": false,
         "locked": false
        },
        {
         "code": ">>> table1_percents.iloc[:,5].dtype is np.ones(2).dtype\nTrue",
         "hidden": false,
         "locked": false
        }
       ],
       "scored": true,
       "setup": "",
       "teardown": "",
       "type": "doctest"
      }
     ]
    },
    "q3_1": {
     "name": "q3_1",
     "points": null,
     "suites": [
      {
       "cases": [
        {
         "code": ">>> 'Fall 13'  == scatter_13_vs_22.get_xlabel() or 'Fall 13'  == scatter_13_vs_22.get_ylabel()\nTrue",
         "hidden": false,
         "locked": false
        },
        {
         "code": ">>> 'Fall 22'  == scatter_13_vs_22.get_xlabel() or 'Fall 22'  == scatter_13_vs_22.get_ylabel()\nTrue",
         "hidden": false,
         "locked": false
        },
        {
         "code": ">>> len(scatter_13_vs_22.get_title()) != 0\nTrue",
         "hidden": false,
         "locked": false
        }
       ],
       "scored": true,
       "setup": "",
       "teardown": "",
       "type": "doctest"
      }
     ]
    }
   }
  }
 },
 "nbformat": 4,
 "nbformat_minor": 5
}
