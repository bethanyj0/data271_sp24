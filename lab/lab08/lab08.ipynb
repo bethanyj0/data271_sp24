{
 "cells": [
  {
   "cell_type": "code",
   "execution_count": null,
   "id": "7b64abbc",
   "metadata": {
    "deletable": false,
    "editable": false
   },
   "outputs": [],
   "source": [
    "# Initialize Otter\n",
    "import otter\n",
    "grader = otter.Notebook(\"lab08.ipynb\")"
   ]
  },
  {
   "cell_type": "markdown",
   "id": "e2443a41",
   "metadata": {},
   "source": [
    "# Lab 08: Exploratory Data Analysis of the Spaceship Titanic Data Set"
   ]
  },
  {
   "cell_type": "markdown",
   "id": "d01368ef",
   "metadata": {},
   "source": [
    "Welcome to your eighth lab assignment of DATA 271!\n",
    "\n",
    "### Background/Overview\n",
    "\n",
    "Kaggle has an ongoing \"Getting Started\" competition inspired by the original Titanic data set, which we have been using in our demos this week.  More information can be found [here](https://www.kaggle.com/competitions/spaceship-titanic/overview).\n",
    "\n",
    "The backstory (from Kaggle): The year is 2912, and Earth has received a transmission from four lightyears away and there has been an accident.\n",
    "\n",
    "The Spaceship Titanic was an interstellar passenger liner launched a month ago. With almost 13,000 passengers on board, the vessel set out on its maiden voyage transporting emigrants from our solar system to three newly habitable exoplanets orbiting nearby stars.\n",
    "\n",
    "While rounding Alpha Centauri en route to its first destination (the torrid 55 Cancri E) the unwary Spaceship Titanic collided with a spacetime anomaly hidden within a dust cloud. Sadly, it met a similar fate as its namesake from 1000 years before. Though the ship stayed intact, almost half of the passengers were transported to an alternate dimension.\n",
    "\n",
    "To help rescue crews retrieve the lost passengers, this dataset has been released to challenge people to predict which passengers were transported by the anomaly using records recovered from the spaceship’s damaged computer system.  \n",
    "\n",
    "In this assignment, we will only complete an exploratory data analysis and we will consider only the training set of data. \n",
    "\n",
    "### In today's lab, we will\n",
    "- Use Seaborn to plot\n",
    "    - heatmaps \n",
    "    - histograms\n",
    "    - bar plots\n",
    "    - violin plots\n",
    "    - KDEs\n",
    "- Create new columns in a data frame based one existing features\n",
    "- Address missing values"
   ]
  },
  {
   "cell_type": "markdown",
   "id": "8dc72973",
   "metadata": {},
   "source": [
    "### 1. Load Packages and Data"
   ]
  },
  {
   "cell_type": "markdown",
   "id": "851a1710",
   "metadata": {},
   "source": [
    "**Question 1.1:** Import Numpy, Pandas, MatplotLib, and Seaborn to prepare for the EDA. "
   ]
  },
  {
   "cell_type": "code",
   "execution_count": null,
   "id": "a45927db",
   "metadata": {
    "tags": []
   },
   "outputs": [],
   "source": []
  },
  {
   "cell_type": "code",
   "execution_count": null,
   "id": "95a6d12b",
   "metadata": {
    "deletable": false,
    "editable": false
   },
   "outputs": [],
   "source": [
    "grader.check(\"q1_1\")"
   ]
  },
  {
   "cell_type": "markdown",
   "id": "881a376d",
   "metadata": {},
   "source": [
    "**Question 1.2:** Set the runtime configuration parameters so that the figure size is (6,3) and the default dpi is 80. (Default dpi is 72 in webpages, and we wish to see our figures in higher resolution)."
   ]
  },
  {
   "cell_type": "code",
   "execution_count": null,
   "id": "a31d300c",
   "metadata": {
    "tags": []
   },
   "outputs": [],
   "source": [
    "# set defined plot sizes and styles"
   ]
  },
  {
   "cell_type": "code",
   "execution_count": null,
   "id": "10cb89b9",
   "metadata": {
    "deletable": false,
    "editable": false
   },
   "outputs": [],
   "source": [
    "grader.check(\"q1_2\")"
   ]
  },
  {
   "cell_type": "markdown",
   "id": "7615eaac",
   "metadata": {},
   "source": [
    "**Question 1.3:** Import the spaceship titanic data.(It is already in your working directory if you are on JupyterHub. If you are on your personal device, download it from our course repo). "
   ]
  },
  {
   "cell_type": "code",
   "execution_count": null,
   "id": "5e2b83df",
   "metadata": {
    "tags": []
   },
   "outputs": [],
   "source": [
    "titanic = ...\n",
    "titanic.head()"
   ]
  },
  {
   "cell_type": "code",
   "execution_count": null,
   "id": "b3332052",
   "metadata": {
    "deletable": false,
    "editable": false
   },
   "outputs": [],
   "source": [
    "grader.check(\"q1_3\")"
   ]
  },
  {
   "cell_type": "markdown",
   "id": "345a36a0",
   "metadata": {},
   "source": [
    "**Question 1.4:** Create a copy of the `titanic` dataframe so that we can check the original data even after we make changes to it. "
   ]
  },
  {
   "cell_type": "code",
   "execution_count": null,
   "id": "52da1c06",
   "metadata": {
    "tags": []
   },
   "outputs": [],
   "source": [
    "titanic_copy = ...\n",
    "titanic_copy.head()"
   ]
  },
  {
   "cell_type": "code",
   "execution_count": null,
   "id": "2ffc93a0",
   "metadata": {
    "deletable": false,
    "editable": false
   },
   "outputs": [],
   "source": [
    "grader.check(\"q1_4\")"
   ]
  },
  {
   "cell_type": "markdown",
   "id": "c01e7205",
   "metadata": {},
   "source": [
    "### 2. Understanding the Data"
   ]
  },
  {
   "cell_type": "markdown",
   "id": "5251f1d9",
   "metadata": {},
   "source": [
    "**Question 2.1:** Use Pandas methods to answer the following questions\n",
    "- a) What features are included in the data? Put your answer in a list `features_2_1_a`.\n",
    "- b) What is the shape of the `titanic` dataframe? Put your answer in `shape_2_1_b`.\n",
    "- c) Indicate if features are categorical or numerical. Put the categoricals in a list `categorical_2_1_c`. Put the numerical variables in `numeric_2_1_c`."
   ]
  },
  {
   "cell_type": "code",
   "execution_count": null,
   "id": "d4533cc5",
   "metadata": {
    "tags": []
   },
   "outputs": [],
   "source": [
    "features_2_1_a = ...\n",
    "features_2_1_a"
   ]
  },
  {
   "cell_type": "code",
   "execution_count": null,
   "id": "833694ea",
   "metadata": {
    "tags": []
   },
   "outputs": [],
   "source": [
    "shape_2_1_b = ...\n",
    "shape_2_1_b"
   ]
  },
  {
   "cell_type": "code",
   "execution_count": null,
   "id": "ce8af951",
   "metadata": {
    "tags": []
   },
   "outputs": [],
   "source": [
    "\n",
    "categorical_2_1_c = ...\n",
    "numeric_2_1_c = ..."
   ]
  },
  {
   "cell_type": "code",
   "execution_count": null,
   "id": "f65cf4f2",
   "metadata": {
    "deletable": false,
    "editable": false
   },
   "outputs": [],
   "source": [
    "grader.check(\"q2_1\")"
   ]
  },
  {
   "cell_type": "markdown",
   "id": "c16f2cc6",
   "metadata": {},
   "source": [
    "<!-- BEGIN QUESTION -->\n",
    "\n",
    "**Question 2.2:** Go to the source of the data on Kaggle and read descriptions of the variables.  Summarize this information using Markdown.  "
   ]
  },
  {
   "cell_type": "markdown",
   "id": "201974b4",
   "metadata": {},
   "source": [
    "_Type your answer here, replacing this text._"
   ]
  },
  {
   "cell_type": "markdown",
   "id": "a2fe89fd",
   "metadata": {},
   "source": [
    "<!-- END QUESTION -->\n",
    "\n",
    "### 3. Begin Exploration (Statistics)"
   ]
  },
  {
   "cell_type": "markdown",
   "id": "f9ae425b",
   "metadata": {},
   "source": [
    "**Question 3.1:** How old is the oldest passenger on the ship? Assign `oldest` to a float indicating the age of the oldest passenger. "
   ]
  },
  {
   "cell_type": "code",
   "execution_count": null,
   "id": "7859393a",
   "metadata": {
    "tags": []
   },
   "outputs": [],
   "source": [
    "oldest = ...\n",
    "oldest"
   ]
  },
  {
   "cell_type": "code",
   "execution_count": null,
   "id": "01341fea",
   "metadata": {
    "deletable": false,
    "editable": false
   },
   "outputs": [],
   "source": [
    "grader.check(\"q3_1\")"
   ]
  },
  {
   "cell_type": "markdown",
   "id": "67e55d29",
   "metadata": {},
   "source": [
    "**Question 3.2:** How old is the youngest passenger on the ship? Assign `youngest` to a float indicating the age of the youngest passenger. "
   ]
  },
  {
   "cell_type": "code",
   "execution_count": null,
   "id": "d331ee06",
   "metadata": {
    "tags": []
   },
   "outputs": [],
   "source": [
    "youngest = ...\n",
    "youngest"
   ]
  },
  {
   "cell_type": "code",
   "execution_count": null,
   "id": "b5aaf1df",
   "metadata": {
    "deletable": false,
    "editable": false
   },
   "outputs": [],
   "source": [
    "grader.check(\"q3_2\")"
   ]
  },
  {
   "cell_type": "markdown",
   "id": "6b8b0960",
   "metadata": {},
   "source": [
    "**Question 3.3:** What is the average amount that passengers billed at the food court? Assign `food_court` to a float. "
   ]
  },
  {
   "cell_type": "code",
   "execution_count": null,
   "id": "c7783258",
   "metadata": {
    "tags": []
   },
   "outputs": [],
   "source": [
    "food_court = ...\n",
    "food_court"
   ]
  },
  {
   "cell_type": "code",
   "execution_count": null,
   "id": "62895b64",
   "metadata": {
    "deletable": false,
    "editable": false
   },
   "outputs": [],
   "source": [
    "grader.check(\"q3_3\")"
   ]
  },
  {
   "cell_type": "markdown",
   "id": "067618b9",
   "metadata": {},
   "source": [
    "**Question 3.4:** How many cabins are on the ship? Assign `num_cabins` to an int."
   ]
  },
  {
   "cell_type": "code",
   "execution_count": null,
   "id": "1f6a34a0",
   "metadata": {
    "tags": []
   },
   "outputs": [],
   "source": [
    "num_cabins = ...\n",
    "num_cabins"
   ]
  },
  {
   "cell_type": "code",
   "execution_count": null,
   "id": "28e6e3a0",
   "metadata": {
    "deletable": false,
    "editable": false
   },
   "outputs": [],
   "source": [
    "grader.check(\"q3_4\")"
   ]
  },
  {
   "cell_type": "markdown",
   "id": "bcc330fd",
   "metadata": {},
   "source": [
    "**Question 3.5:** How many passengers share a room? Assign `shared_room` to an int."
   ]
  },
  {
   "cell_type": "code",
   "execution_count": null,
   "id": "39706630",
   "metadata": {
    "tags": []
   },
   "outputs": [],
   "source": [
    "shared_room = ...\n",
    "shared_room"
   ]
  },
  {
   "cell_type": "code",
   "execution_count": null,
   "id": "d65bc4fa",
   "metadata": {
    "deletable": false,
    "editable": false
   },
   "outputs": [],
   "source": [
    "grader.check(\"q3_5\")"
   ]
  },
  {
   "cell_type": "markdown",
   "id": "6553a2b5",
   "metadata": {},
   "source": [
    "### 4. Preprocess the Data"
   ]
  },
  {
   "cell_type": "markdown",
   "id": "c67c9dac",
   "metadata": {},
   "source": [
    "**Question 4.1:** Get the total number of null values per variable. (Your answer should be a Pandas Series)."
   ]
  },
  {
   "cell_type": "code",
   "execution_count": null,
   "id": "381b45df",
   "metadata": {
    "tags": []
   },
   "outputs": [],
   "source": [
    "num_nulls = ...\n",
    "num_nulls"
   ]
  },
  {
   "cell_type": "code",
   "execution_count": null,
   "id": "5d807d41",
   "metadata": {
    "deletable": false,
    "editable": false
   },
   "outputs": [],
   "source": [
    "grader.check(\"q4_1\")"
   ]
  },
  {
   "cell_type": "markdown",
   "id": "cd961000",
   "metadata": {},
   "source": [
    "**Question 4.2:** Visualize the location of the null values with a heatmap."
   ]
  },
  {
   "cell_type": "code",
   "execution_count": null,
   "id": "1bd983f7",
   "metadata": {
    "tags": []
   },
   "outputs": [],
   "source": [
    "nullvals_heat = ...\n",
    "plt.show()"
   ]
  },
  {
   "cell_type": "code",
   "execution_count": null,
   "id": "12791f7d",
   "metadata": {
    "deletable": false,
    "editable": false
   },
   "outputs": [],
   "source": [
    "grader.check(\"q4_2\")"
   ]
  },
  {
   "cell_type": "markdown",
   "id": "0e250ffc",
   "metadata": {},
   "source": [
    "### 5. Visualize the Data"
   ]
  },
  {
   "cell_type": "markdown",
   "id": "177c8a67",
   "metadata": {},
   "source": [
    "**Question 5.1a:** Create count plots (subplots) for `HomePlanet`, `CryoSleep`, `Destination`, and `VIP`, and discuss your observations."
   ]
  },
  {
   "cell_type": "markdown",
   "id": "2c17d7f0",
   "metadata": {},
   "source": [
    "_Type your answer here, replacing this text._"
   ]
  },
  {
   "cell_type": "code",
   "execution_count": null,
   "id": "a94342e3",
   "metadata": {
    "scrolled": false,
    "tags": []
   },
   "outputs": [],
   "source": [
    "fig, ax = ...\n",
    "\n",
    "...\n",
    "...\n",
    "...\n",
    "...\n",
    "\n",
    "..."
   ]
  },
  {
   "cell_type": "code",
   "execution_count": null,
   "id": "5d99d01d",
   "metadata": {
    "deletable": false,
    "editable": false
   },
   "outputs": [],
   "source": [
    "grader.check(\"q5_1a\")"
   ]
  },
  {
   "cell_type": "markdown",
   "id": "ebfabb70",
   "metadata": {},
   "source": [
    "**Question 5.1b:** Create count plots (subplots) for `HomePlanet`, `CryoSleep`, `Destination`, and `VIP`, and bring in the variable of `Transported` into the plots (*HINT*: map it to color).  Discuss any observations you can make about individuals who are transported."
   ]
  },
  {
   "cell_type": "markdown",
   "id": "7ddbb92d",
   "metadata": {},
   "source": [
    "_Type your answer here, replacing this text._"
   ]
  },
  {
   "cell_type": "code",
   "execution_count": null,
   "id": "b1402ddd",
   "metadata": {
    "scrolled": false,
    "tags": []
   },
   "outputs": [],
   "source": [
    "fig2, ax2 = ...\n",
    "\n",
    "...\n",
    "...\n",
    "...\n",
    "...\n",
    "\n",
    "..."
   ]
  },
  {
   "cell_type": "code",
   "execution_count": null,
   "id": "8a6a0580",
   "metadata": {
    "deletable": false,
    "editable": false
   },
   "outputs": [],
   "source": [
    "grader.check(\"q5_1b\")"
   ]
  },
  {
   "cell_type": "markdown",
   "id": "12b8f96b",
   "metadata": {},
   "source": [
    "**Question 5.2:** Use the plots you created in 5.1a and 5.1b and/or Pandas methods to answer the following questions. \n",
    "\n",
    "- Where do most passengers come from?  How many come from that planet? Assign `most_common_home_planet` to a tuple where the first element is the name of the most common home planet and the second is the number of passengers that came from that planet.\n",
    "- Where are most passengers going?  How many are going to that location? Assign `most_common_destination` to a tuple where the first element is the name of the most common destination and the second is the number of passengers going to the destination.\n",
    "- Do either home planet or destination seem to relate to an individual being transported or not? Assign `transported_predictor` to a list containing `HomePlanet` or `Destination` or both. "
   ]
  },
  {
   "cell_type": "code",
   "execution_count": null,
   "id": "037ec720",
   "metadata": {
    "tags": []
   },
   "outputs": [],
   "source": [
    "most_common_home_planet = ...\n",
    "most_common_destination = ...\n",
    "transported_predictor = ..."
   ]
  },
  {
   "cell_type": "code",
   "execution_count": null,
   "id": "9eaaf0c5",
   "metadata": {
    "deletable": false,
    "editable": false
   },
   "outputs": [],
   "source": [
    "grader.check(\"q5_2\")"
   ]
  },
  {
   "cell_type": "markdown",
   "id": "73e70ac0",
   "metadata": {},
   "source": [
    "**Question 5.3: Correlations** Create a correlation matrix and a heatmap. Discuss any features which are correlated. Specifically, are there any features correlated with a passenger being transported?"
   ]
  },
  {
   "cell_type": "markdown",
   "id": "004572ce",
   "metadata": {},
   "source": [
    "_Type your answer here, replacing this text._"
   ]
  },
  {
   "cell_type": "code",
   "execution_count": null,
   "id": "a7232790",
   "metadata": {
    "tags": []
   },
   "outputs": [],
   "source": [
    "# Create correlation matrix\n",
    "corrmat = ...\n",
    "corrmat"
   ]
  },
  {
   "cell_type": "code",
   "execution_count": null,
   "id": "157be516",
   "metadata": {
    "tags": []
   },
   "outputs": [],
   "source": [
    "# plot as a heat map to visualize the information in the matrix\n",
    "heatmap_fig = ...\n",
    "...\n",
    "..."
   ]
  },
  {
   "cell_type": "code",
   "execution_count": null,
   "id": "924f2938",
   "metadata": {
    "deletable": false,
    "editable": false
   },
   "outputs": [],
   "source": [
    "grader.check(\"q5_3\")"
   ]
  },
  {
   "cell_type": "markdown",
   "id": "6fa18f87",
   "metadata": {},
   "source": [
    "**Question 5.4:** Create a histogram for age. Discuss the qualitative features of the plot and what they mean in terms of the passenger population."
   ]
  },
  {
   "cell_type": "markdown",
   "id": "59ae0ff4",
   "metadata": {},
   "source": [
    "_Type your answer here, replacing this text._"
   ]
  },
  {
   "cell_type": "code",
   "execution_count": null,
   "id": "98e3f81a",
   "metadata": {
    "tags": []
   },
   "outputs": [],
   "source": [
    "age_dist = ...\n",
    "..."
   ]
  },
  {
   "cell_type": "code",
   "execution_count": null,
   "id": "0f185a87",
   "metadata": {
    "deletable": false,
    "editable": false
   },
   "outputs": [],
   "source": [
    "grader.check(\"q5_4\")"
   ]
  },
  {
   "cell_type": "markdown",
   "id": "4ee81644",
   "metadata": {},
   "source": [
    "**Question 5.5a: Age** How does age relate to being transported? Make the following plots and then answer the questions in part b.\n",
    "- Create a box plot for the age of individuals who were transported and individuals who were not.  Compare the boxplots and five number summary between transported and non-transported individuals.  \n",
    "- Create a violin plot for the same information.\n",
    "- Create a histogram for age for both transported and non-transported individuals.\n",
    "- Create a KDE plot for age for both transported and non-transported individuals.  "
   ]
  },
  {
   "cell_type": "code",
   "execution_count": null,
   "id": "80d0c64b",
   "metadata": {
    "tags": []
   },
   "outputs": [],
   "source": [
    "# BOXPLOT\n",
    "...\n",
    "age_box = ...\n",
    "..."
   ]
  },
  {
   "cell_type": "code",
   "execution_count": null,
   "id": "d7360f73",
   "metadata": {
    "scrolled": true,
    "tags": []
   },
   "outputs": [],
   "source": [
    "# VIOLIN PLOT\n",
    "...\n",
    "age_violin = ...\n",
    "..."
   ]
  },
  {
   "cell_type": "code",
   "execution_count": null,
   "id": "b009b25b",
   "metadata": {
    "tags": []
   },
   "outputs": [],
   "source": [
    "# HISTOGRAM\n",
    "...\n",
    "age_hist = ...\n",
    "...\n",
    "...\n",
    "age_violin = ...\n",
    "..."
   ]
  },
  {
   "cell_type": "code",
   "execution_count": null,
   "id": "d35b8dff",
   "metadata": {
    "tags": []
   },
   "outputs": [],
   "source": [
    "# KDE PLOT\n",
    "...\n",
    "age_kde = ...\n",
    "..."
   ]
  },
  {
   "cell_type": "code",
   "execution_count": null,
   "id": "fd496c07",
   "metadata": {
    "deletable": false,
    "editable": false
   },
   "outputs": [],
   "source": [
    "grader.check(\"q5_5a\")"
   ]
  },
  {
   "cell_type": "markdown",
   "id": "1f2e5294",
   "metadata": {},
   "source": [
    "**Question 5.5b:** Select the statements below that align with insights you can gain from the plots you created in part a. \n",
    "\n",
    "1. The median age of transported individuals is slightly less than for non-transported individuals.  \n",
    "2. 0 to 18 year olds are more likely to be transported than not.\n",
    "3. adults roughly between 18 and 40 are more likely to be transported than not.\n",
    "4. beyond middle age (~40), there is a pretty equal likelihood of being transported.\n",
    "\n",
    "Assign `age_conclusions` to a list containing 1, 2, 3, or 4."
   ]
  },
  {
   "cell_type": "code",
   "execution_count": null,
   "id": "350afd84",
   "metadata": {
    "tags": []
   },
   "outputs": [],
   "source": [
    "age_conclusions = ..."
   ]
  },
  {
   "cell_type": "code",
   "execution_count": null,
   "id": "b6a75bd7",
   "metadata": {
    "deletable": false,
    "editable": false
   },
   "outputs": [],
   "source": [
    "grader.check(\"q5_5b\")"
   ]
  },
  {
   "cell_type": "markdown",
   "id": "47630fbc",
   "metadata": {},
   "source": [
    "**Question 5.6a: Spending habits** How do spending habits relate to being transported? Complete the following tasks. These will be used to create more plots in parts b and c.\n",
    "- Create a copy of `titanic` called `titanic_more_spending_features`.\n",
    "- Create a new column called `Premium` which shows the total amount the passenger spent on `RoomService`, `Spa` and `VRDeck` combined. \n",
    "- Create a new column called `Basic` which shows the total amount the passenger spent on `FoodCourt`, `ShoppingMall` combined.\n",
    "- Create a new column called `All_Services` which is the total amount the passenger spent. "
   ]
  },
  {
   "cell_type": "code",
   "execution_count": null,
   "id": "a9906994",
   "metadata": {
    "tags": []
   },
   "outputs": [],
   "source": [
    "titanic_more_spending_features['Premium'] = ...\n",
    "titanic_more_spending_features['Basic'] = ...\n",
    "titanic_more_spending_features['All_Services'] = ..."
   ]
  },
  {
   "cell_type": "code",
   "execution_count": null,
   "id": "1cd09daa",
   "metadata": {
    "deletable": false,
    "editable": false
   },
   "outputs": [],
   "source": [
    "grader.check(\"q5_6a\")"
   ]
  },
  {
   "cell_type": "markdown",
   "id": "3c7c2454",
   "metadata": {},
   "source": [
    "**Question 5.6b:** Using your new dataframe with additional columns. Recalculate the correlation matrix and plot a heatmap. Do you have any new observations?"
   ]
  },
  {
   "cell_type": "markdown",
   "id": "16a95163",
   "metadata": {},
   "source": [
    "_Type your answer here, replacing this text._"
   ]
  },
  {
   "cell_type": "code",
   "execution_count": null,
   "id": "0edfcdb1",
   "metadata": {
    "tags": []
   },
   "outputs": [],
   "source": [
    "plt.figure(figsize = (7,5))\n",
    "corrmat_update = ...\n",
    "\n",
    "heatmap_update = ...\n",
    "..."
   ]
  },
  {
   "cell_type": "code",
   "execution_count": null,
   "id": "d8b3da2f",
   "metadata": {
    "deletable": false,
    "editable": false
   },
   "outputs": [],
   "source": [
    "grader.check(\"q5_6b\")"
   ]
  },
  {
   "cell_type": "markdown",
   "id": "5be6f261",
   "metadata": {},
   "source": [
    "**Question 5.6c:** Create a KDE plot for luxury spending (Premium) for both transported and non-transported individuals.  Does this give you any additional information?"
   ]
  },
  {
   "cell_type": "markdown",
   "id": "3b4b2298",
   "metadata": {},
   "source": [
    "_Type your answer here, replacing this text._"
   ]
  },
  {
   "cell_type": "code",
   "execution_count": null,
   "id": "0f1127d0",
   "metadata": {
    "tags": []
   },
   "outputs": [],
   "source": [
    "plt.figure(figsize = (10,5))\n",
    "kde_luxury = ...\n",
    "..."
   ]
  },
  {
   "cell_type": "code",
   "execution_count": null,
   "id": "d362693e",
   "metadata": {
    "deletable": false,
    "editable": false
   },
   "outputs": [],
   "source": [
    "grader.check(\"q5_6c\")"
   ]
  },
  {
   "cell_type": "markdown",
   "id": "436c07f4",
   "metadata": {},
   "source": [
    "**Question 5.7a: Family Size** We saw in the 1912 Titanic dataset during lecture that the number of siblings or family members had an impact on survival.  We will investigate if this has an impact on the Spaceship Titanic data.  The data set unfortunately does not have a feature for family size.  However, names are given. Some names are listed as NaN. First, remove those passengers from the dataset. Put your new dataframe with NaN names removed into a copy called `titanic_with_family_size`."
   ]
  },
  {
   "cell_type": "code",
   "execution_count": null,
   "id": "fc957312",
   "metadata": {
    "tags": []
   },
   "outputs": [],
   "source": [
    "titanic_with_family_size = titanic.copy() \n",
    "titanic_with_family_size = ..."
   ]
  },
  {
   "cell_type": "code",
   "execution_count": null,
   "id": "2d8d9394",
   "metadata": {
    "deletable": false,
    "editable": false
   },
   "outputs": [],
   "source": [
    "grader.check(\"q5_7a\")"
   ]
  },
  {
   "cell_type": "markdown",
   "id": "f87d8542",
   "metadata": {},
   "source": [
    "**Question 5.7b:** Split the `Name` feature into a new feature called `LastName`.  This should be a new column in your `titanic_with_lastname` dataframe."
   ]
  },
  {
   "cell_type": "code",
   "execution_count": null,
   "id": "f1467a5b",
   "metadata": {
    "tags": []
   },
   "outputs": [],
   "source": [
    "titanic_with_family_size.head()"
   ]
  },
  {
   "cell_type": "code",
   "execution_count": null,
   "id": "a5510bb4",
   "metadata": {
    "deletable": false,
    "editable": false
   },
   "outputs": [],
   "source": [
    "grader.check(\"q5_7b\")"
   ]
  },
  {
   "cell_type": "markdown",
   "id": "e6c8b3c2",
   "metadata": {},
   "source": [
    "**Question 5.7c:** Create a new column in your `titanic_with_lastname` dataframe called `FamilySize` containing the number of individuals in the passengers corresponding family (including the passenger). *Hint:* If you want to split the problem up into steps, you can create a series containing all the unique last names and their counts. Then use the series to populate the `FamilySize` column."
   ]
  },
  {
   "cell_type": "code",
   "execution_count": null,
   "id": "995bb5f2",
   "metadata": {
    "tags": []
   },
   "outputs": [],
   "source": [
    "family_size_series = ...\n",
    "titanic_with_family_size.head()"
   ]
  },
  {
   "cell_type": "code",
   "execution_count": null,
   "id": "1e885e29",
   "metadata": {
    "deletable": false,
    "editable": false
   },
   "outputs": [],
   "source": [
    "grader.check(\"q5_7c\")"
   ]
  },
  {
   "cell_type": "markdown",
   "id": "8d273af9",
   "metadata": {},
   "source": [
    "**Question 5.7d:** What is the last name of the largest family onboard?"
   ]
  },
  {
   "cell_type": "code",
   "execution_count": null,
   "id": "16c012f0",
   "metadata": {
    "tags": []
   },
   "outputs": [],
   "source": [
    "largest_family = ...\n",
    "largest_family"
   ]
  },
  {
   "cell_type": "code",
   "execution_count": null,
   "id": "d30d0c9a",
   "metadata": {
    "deletable": false,
    "editable": false
   },
   "outputs": [],
   "source": [
    "grader.check(\"q5_7d\")"
   ]
  },
  {
   "cell_type": "markdown",
   "id": "6cf3c234",
   "metadata": {},
   "source": [
    "**Question 5.7e:** Make a countplot for family size with `Transported` mapped to the color of the bars. What observations can you make? Does family size seem to be an important feature in terms of a passenger being transported or not?"
   ]
  },
  {
   "cell_type": "markdown",
   "id": "85a84fd9",
   "metadata": {},
   "source": [
    "_Type your answer here, replacing this text._"
   ]
  },
  {
   "cell_type": "code",
   "execution_count": null,
   "id": "e42b2597",
   "metadata": {
    "tags": []
   },
   "outputs": [],
   "source": [
    "family_size_count = sns.countplot(data = titanic_with_family_size,x='FamilySize',hue='Transported')\n",
    "plt.show()"
   ]
  },
  {
   "cell_type": "code",
   "execution_count": null,
   "id": "63d1eb4d",
   "metadata": {
    "deletable": false,
    "editable": false
   },
   "outputs": [],
   "source": [
    "grader.check(\"q5_7e\")"
   ]
  },
  {
   "cell_type": "markdown",
   "id": "f80081c1",
   "metadata": {},
   "source": [
    "## You're done! \n",
    "\n",
    "Congratulations on finishing the lab! Gus is so happy for you! Run the cell below and submit to Canvas. \n",
    "\n",
    "<img src=\"gus_lives_in_tunnel.JPG\" alt=\"drawing\" width=\"500\"/>"
   ]
  },
  {
   "cell_type": "markdown",
   "id": "09305000",
   "metadata": {
    "deletable": false,
    "editable": false
   },
   "source": [
    "## Submission\n",
    "\n",
    "Make sure you have run all cells in your notebook in order before running the cell below, so that all images/graphs appear in the output. The cell below will generate a zip file for you to submit. **Please save before exporting!**"
   ]
  },
  {
   "cell_type": "code",
   "execution_count": null,
   "id": "904b7fc7",
   "metadata": {
    "deletable": false,
    "editable": false
   },
   "outputs": [],
   "source": [
    "# Save your notebook first, then run this cell to export your submission.\n",
    "grader.export(pdf=False, run_tests=True)"
   ]
  },
  {
   "cell_type": "markdown",
   "id": "36e4bb45",
   "metadata": {},
   "source": [
    " "
   ]
  }
 ],
 "metadata": {
  "kernelspec": {
   "display_name": "Python 3 (ipykernel)",
   "language": "python",
   "name": "python3"
  },
  "language_info": {
   "codemirror_mode": {
    "name": "ipython",
    "version": 3
   },
   "file_extension": ".py",
   "mimetype": "text/x-python",
   "name": "python",
   "nbconvert_exporter": "python",
   "pygments_lexer": "ipython3",
   "version": "3.11.4"
  },
  "otter": {
   "OK_FORMAT": true,
   "tests": {
    "q1_1": {
     "name": "q1_1",
     "points": null,
     "suites": [
      {
       "cases": [
        {
         "code": ">>> import sys \n>>> \n>>> 'numpy' in sys.modules\nTrue",
         "hidden": false,
         "locked": false
        },
        {
         "code": ">>> 'pandas' in sys.modules\nTrue",
         "hidden": false,
         "locked": false
        },
        {
         "code": ">>> 'matplotlib' in sys.modules\nTrue",
         "hidden": false,
         "locked": false
        },
        {
         "code": ">>> 'seaborn' in sys.modules\nTrue",
         "hidden": false,
         "locked": false
        }
       ],
       "scored": true,
       "setup": "",
       "teardown": "",
       "type": "doctest"
      }
     ]
    },
    "q1_2": {
     "name": "q1_2",
     "points": null,
     "suites": [
      {
       "cases": [
        {
         "code": ">>> plt.rcParams['figure.figsize']\n[6.0, 3.0]",
         "hidden": false,
         "locked": false
        },
        {
         "code": ">>> plt.rcParams['figure.dpi']\n80.0",
         "hidden": false,
         "locked": false
        }
       ],
       "scored": true,
       "setup": "",
       "teardown": "",
       "type": "doctest"
      }
     ]
    },
    "q1_3": {
     "name": "q1_3",
     "points": null,
     "suites": [
      {
       "cases": [
        {
         "code": ">>> titanic.empty\nFalse",
         "hidden": false,
         "locked": false
        },
        {
         "code": ">>> titanic.shape\n(8693, 14)",
         "hidden": false,
         "locked": false
        }
       ],
       "scored": true,
       "setup": "",
       "teardown": "",
       "type": "doctest"
      }
     ]
    },
    "q1_4": {
     "name": "q1_4",
     "points": null,
     "suites": [
      {
       "cases": [
        {
         "code": ">>> titanic_copy.empty\nFalse",
         "hidden": false,
         "locked": false
        },
        {
         "code": ">>> titanic_copy.shape\n(8693, 14)",
         "hidden": false,
         "locked": false
        }
       ],
       "scored": true,
       "setup": "",
       "teardown": "",
       "type": "doctest"
      }
     ]
    },
    "q2_1": {
     "name": "q2_1",
     "points": null,
     "suites": [
      {
       "cases": [
        {
         "code": ">>> sum([i in ['PassengerId',\n...  'HomePlanet',\n...  'CryoSleep',\n...  'Cabin',\n...  'Destination',\n...  'Age',\n...  'VIP',\n...  'RoomService',\n...  'FoodCourt',\n...  'ShoppingMall',\n...  'Spa',\n...  'VRDeck',\n...  'Name',\n...  'Transported'] for i in features_2_1_a])\n14",
         "hidden": false,
         "locked": false
        },
        {
         "code": ">>> shape_2_1_b\n(8693, 14)",
         "hidden": false,
         "locked": false
        },
        {
         "code": ">>> sum(i in ['PassengerId', 'HomePlanet','CryoSleep', 'Cabin','Destination','VIP','Name','Transported'] for i in categorical_2_1_c)\n8",
         "hidden": false,
         "locked": false
        },
        {
         "code": ">>> sum(i in ['Age','RoomService','FoodCourt','ShoppingMall','Spa','VRDeck']  for i in numeric_2_1_c)\n6",
         "hidden": false,
         "locked": false
        }
       ],
       "scored": true,
       "setup": "",
       "teardown": "",
       "type": "doctest"
      }
     ]
    },
    "q3_1": {
     "name": "q3_1",
     "points": null,
     "suites": [
      {
       "cases": [
        {
         "code": ">>> oldest\n79.0",
         "hidden": false,
         "locked": false
        }
       ],
       "scored": true,
       "setup": "",
       "teardown": "",
       "type": "doctest"
      }
     ]
    },
    "q3_2": {
     "name": "q3_2",
     "points": null,
     "suites": [
      {
       "cases": [
        {
         "code": ">>> youngest\n0.0",
         "hidden": false,
         "locked": false
        }
       ],
       "scored": true,
       "setup": "",
       "teardown": "",
       "type": "doctest"
      }
     ]
    },
    "q3_3": {
     "name": "q3_3",
     "points": null,
     "suites": [
      {
       "cases": [
        {
         "code": ">>> np.round(food_court)\n458.0",
         "hidden": false,
         "locked": false
        }
       ],
       "scored": true,
       "setup": "",
       "teardown": "",
       "type": "doctest"
      }
     ]
    },
    "q3_4": {
     "name": "q3_4",
     "points": null,
     "suites": [
      {
       "cases": [
        {
         "code": ">>> num_cabins\n6561",
         "hidden": false,
         "locked": false
        }
       ],
       "scored": true,
       "setup": "",
       "teardown": "",
       "type": "doctest"
      }
     ]
    },
    "q3_5": {
     "name": "q3_5",
     "points": null,
     "suites": [
      {
       "cases": [
        {
         "code": ">>> shared_room\n3266",
         "hidden": false,
         "locked": false
        }
       ],
       "scored": true,
       "setup": "",
       "teardown": "",
       "type": "doctest"
      }
     ]
    },
    "q4_1": {
     "name": "q4_1",
     "points": null,
     "suites": [
      {
       "cases": [
        {
         "code": ">>> num_nulls\nPassengerId       0\nHomePlanet      201\nCryoSleep       217\nCabin           199\nDestination     182\nAge             179\nVIP             203\nRoomService     181\nFoodCourt       183\nShoppingMall    208\nSpa             183\nVRDeck          188\nName            200\nTransported       0\ndtype: int64",
         "hidden": false,
         "locked": false
        }
       ],
       "scored": true,
       "setup": "",
       "teardown": "",
       "type": "doctest"
      }
     ]
    },
    "q4_2": {
     "name": "q4_2",
     "points": null,
     "suites": [
      {
       "cases": [
        {
         "code": ">>> nullvals_heat.get_xticks()\narray([ 0.5,  1.5,  2.5,  3.5,  4.5,  5.5,  6.5,  7.5,  8.5,  9.5, 10.5,\n       11.5, 12.5, 13.5])",
         "hidden": false,
         "locked": false
        },
        {
         "code": ">>> nullvals_heat.get_yticks()\narray([5.0000e-01, 5.4450e+02, 1.0885e+03, 1.6325e+03, 2.1765e+03,\n       2.7205e+03, 3.2645e+03, 3.8085e+03, 4.3525e+03, 4.8965e+03,\n       5.4405e+03, 5.9845e+03, 6.5285e+03, 7.0725e+03, 7.6165e+03,\n       8.1605e+03])",
         "hidden": false,
         "locked": false
        }
       ],
       "scored": true,
       "setup": "",
       "teardown": "",
       "type": "doctest"
      }
     ]
    },
    "q5_1a": {
     "name": "q5_1a",
     "points": null,
     "suites": [
      {
       "cases": [
        {
         "code": ">>> ax.size\n4",
         "hidden": false,
         "locked": false
        },
        {
         "code": ">>> sum([fig.get_axes()[i].get_xlabel() in ['HomePlanet', 'CryoSleep', 'Destination', 'VIP'] for i in range(4)])\n4",
         "hidden": false,
         "locked": false
        },
        {
         "code": ">>> sum([fig.get_axes()[i].get_ylabel() =='count' for i in range(4)])\n4",
         "hidden": false,
         "locked": false
        }
       ],
       "scored": true,
       "setup": "",
       "teardown": "",
       "type": "doctest"
      }
     ]
    },
    "q5_1b": {
     "name": "q5_1b",
     "points": null,
     "suites": [
      {
       "cases": [
        {
         "code": ">>> ax2.size\n4",
         "hidden": false,
         "locked": false
        },
        {
         "code": ">>> sum([fig.get_axes()[i].get_xlabel() in ['HomePlanet', 'CryoSleep', 'Destination', 'VIP'] for i in range(4)])\n4",
         "hidden": false,
         "locked": false
        },
        {
         "code": ">>> sum([fig.get_axes()[i].get_ylabel() =='count' for i in range(4)])\n4",
         "hidden": false,
         "locked": false
        }
       ],
       "scored": true,
       "setup": "",
       "teardown": "",
       "type": "doctest"
      }
     ]
    },
    "q5_2": {
     "name": "q5_2",
     "points": null,
     "suites": [
      {
       "cases": [
        {
         "code": ">>> most_common_home_planet\n('Earth', 4602)",
         "hidden": false,
         "locked": false
        },
        {
         "code": ">>> most_common_destination\n('TRAPPIST-1e', 5915)",
         "hidden": false,
         "locked": false
        },
        {
         "code": ">>> sum([i in ['Destination', 'HomePlanet'] for i in transported_predictor])\n2",
         "hidden": false,
         "locked": false
        }
       ],
       "scored": true,
       "setup": "",
       "teardown": "",
       "type": "doctest"
      }
     ]
    },
    "q5_3": {
     "name": "q5_3",
     "points": null,
     "suites": [
      {
       "cases": [
        {
         "code": ">>> corrmat.shape\n(7, 7)",
         "hidden": false,
         "locked": false
        }
       ],
       "scored": true,
       "setup": "",
       "teardown": "",
       "type": "doctest"
      }
     ]
    },
    "q5_4": {
     "name": "q5_4",
     "points": null,
     "suites": [
      {
       "cases": [
        {
         "code": ">>> age_dist.get_xlabel()\n'Age'",
         "hidden": false,
         "locked": false
        }
       ],
       "scored": true,
       "setup": "",
       "teardown": "",
       "type": "doctest"
      }
     ]
    },
    "q5_5a": {
     "name": "q5_5a",
     "points": null,
     "suites": [
      {
       "cases": [
        {
         "code": ">>> age_box.get_xlabel() == 'Transported' or age_box.get_ylabel() == 'Transported'\nTrue",
         "hidden": false,
         "locked": false
        },
        {
         "code": ">>> age_box.get_xlabel() == 'Age' or age_box.get_ylabel() == 'Age'\nTrue",
         "hidden": false,
         "locked": false
        },
        {
         "code": ">>> age_violin.get_xlabel() == 'Transported' or age_violin.get_ylabel() == 'Transported'\nTrue",
         "hidden": false,
         "locked": false
        },
        {
         "code": ">>> age_violin.get_xlabel() == 'Age' or age_violin.get_ylabel() == 'Age'\nTrue",
         "hidden": false,
         "locked": false
        },
        {
         "code": ">>> age_hist.get_xlabel() == 'Age'\nTrue",
         "hidden": false,
         "locked": false
        },
        {
         "code": ">>> age_kde.get_xlabel() == 'Age'\nTrue",
         "hidden": false,
         "locked": false
        }
       ],
       "scored": true,
       "setup": "",
       "teardown": "",
       "type": "doctest"
      }
     ]
    },
    "q5_5b": {
     "name": "q5_5b",
     "points": null,
     "suites": [
      {
       "cases": [
        {
         "code": ">>> set(age_conclusions)\n{1, 2, 4}",
         "hidden": false,
         "locked": false
        }
       ],
       "scored": true,
       "setup": "",
       "teardown": "",
       "type": "doctest"
      }
     ]
    },
    "q5_6a": {
     "name": "q5_6a",
     "points": null,
     "suites": [
      {
       "cases": [
        {
         "code": ">>> 'Premium' in titanic_more_spending_features.columns\nTrue",
         "hidden": false,
         "locked": false
        },
        {
         "code": ">>> 'Basic' in titanic_more_spending_features.columns\nTrue",
         "hidden": false,
         "locked": false
        },
        {
         "code": ">>> 'All_Services' in titanic_more_spending_features.columns\nTrue",
         "hidden": false,
         "locked": false
        }
       ],
       "scored": true,
       "setup": "",
       "teardown": "",
       "type": "doctest"
      }
     ]
    },
    "q5_6b": {
     "name": "q5_6b",
     "points": null,
     "suites": [
      {
       "cases": [
        {
         "code": ">>> corrmat_update.shape\n(10, 10)",
         "hidden": false,
         "locked": false
        }
       ],
       "scored": true,
       "setup": "",
       "teardown": "",
       "type": "doctest"
      }
     ]
    },
    "q5_6c": {
     "name": "q5_6c",
     "points": null,
     "suites": [
      {
       "cases": [
        {
         "code": ">>> kde_luxury.get_xlabel()\n'Premium'",
         "hidden": false,
         "locked": false
        }
       ],
       "scored": true,
       "setup": "",
       "teardown": "",
       "type": "doctest"
      }
     ]
    },
    "q5_7a": {
     "name": "q5_7a",
     "points": null,
     "suites": [
      {
       "cases": [
        {
         "code": ">>> titanic_with_family_size.Name.isna().sum()\n0",
         "hidden": false,
         "locked": false
        }
       ],
       "scored": true,
       "setup": "",
       "teardown": "",
       "type": "doctest"
      }
     ]
    },
    "q5_7b": {
     "name": "q5_7b",
     "points": null,
     "suites": [
      {
       "cases": [
        {
         "code": ">>> 'LastName' in titanic_with_family_size.columns\nTrue",
         "hidden": false,
         "locked": false
        },
        {
         "code": ">>> titanic_with_family_size.loc[titanic_with_family_size['Name'] == 'Maham Ofracculy','LastName'] \n0    Ofracculy\nName: LastName, dtype: object",
         "hidden": false,
         "locked": false
        },
        {
         "code": ">>> titanic_with_family_size.loc[titanic_with_family_size['Name'] == 'Willy Santantines','LastName'] \n4    Santantines\nName: LastName, dtype: object",
         "hidden": false,
         "locked": false
        }
       ],
       "scored": true,
       "setup": "",
       "teardown": "",
       "type": "doctest"
      }
     ]
    },
    "q5_7c": {
     "name": "q5_7c",
     "points": null,
     "suites": [
      {
       "cases": [
        {
         "code": ">>> 'FamilySize' in titanic_with_family_size.columns\nTrue",
         "hidden": false,
         "locked": false
        },
        {
         "code": ">>> titanic_with_family_size.loc[titanic_with_family_size['LastName'] == 'Ofracculy','FamilySize'] \n0    1\nName: FamilySize, dtype: int64",
         "hidden": false,
         "locked": false
        },
        {
         "code": ">>> titanic_with_family_size.loc[titanic_with_family_size['LastName'] == 'Santantines','FamilySize']\n4       6\n607     6\n608     6\n1647    6\n3793    6\n6446    6\nName: FamilySize, dtype: int64",
         "hidden": false,
         "locked": false
        }
       ],
       "scored": true,
       "setup": "",
       "teardown": "",
       "type": "doctest"
      }
     ]
    },
    "q5_7d": {
     "name": "q5_7d",
     "points": null,
     "suites": [
      {
       "cases": [
        {
         "code": ">>> largest_family\n'Casonston'",
         "hidden": false,
         "locked": false
        }
       ],
       "scored": true,
       "setup": "",
       "teardown": "",
       "type": "doctest"
      }
     ]
    },
    "q5_7e": {
     "name": "q5_7e",
     "points": null,
     "suites": [
      {
       "cases": [
        {
         "code": ">>> family_size_count.get_xlabel()\n'FamilySize'",
         "hidden": false,
         "locked": false
        }
       ],
       "scored": true,
       "setup": "",
       "teardown": "",
       "type": "doctest"
      }
     ]
    }
   }
  }
 },
 "nbformat": 4,
 "nbformat_minor": 5
}
